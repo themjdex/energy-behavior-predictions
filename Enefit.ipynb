{
 "cells": [
  {
   "cell_type": "markdown",
   "id": "a4942d80",
   "metadata": {},
   "source": [
    "# Общая информация\n",
    "Целью является создание модели прогнозирования энергопотребления просьюмеров для снижения затрат на небаланс энергии.\n",
    "\n",
    "Проект направлен на решение проблемы энергетического дисбаланса - ситуации, когда ожидаемое потребление энергии не совпадает с ее фактическим использованием или производством. Значительная часть энергетического дисбаланса приходится на потребителей, которые как потребляют, так и производят энергию. Несмотря на то, что они составляют лишь небольшую часть всех потребителей, их непредсказуемое потребление энергии создает логистические и финансовые проблемы для энергетических компаний.\n",
    " \n",
    "*Enefit* – одна из крупнейших энергетических компаний Балтийского региона. Как эксперты в области энергетики, мы помогаем клиентам индивидуально и гибко планировать свой экологический путь, а также реализовывать его, используя экологически чистые энергетические решения.\n",
    "\n",
    "В настоящее время Enefit пытается решить проблему дисбаланса, разрабатывая внутренние модели прогнозирования и опираясь на прогнозы третьих сторон. Однако эти методы оказались недостаточными из-за низкой точности прогнозирования энергетического поведения просьюмеров. Недостатки этих нынешних методов заключаются в их неспособности точно учесть широкий спектр переменных, влияющих на поведение потребителей, что приводит к высоким издержкам дисбаланса.\n",
    "\n",
    "### Оценивание\n",
    "Основной метрикой заказчика является MAE (средняя абсолютная ошибка):\n",
    "\n",
    "$MAE = \\dfrac{1}{n} \\sum_{i=1}^n |y_i - x_i|$\n",
    "\n",
    "Где:\n",
    "\n",
    "- $n$ — общее количество объектов\n",
    "- $y_i$ — прогнозируемое значение таргета\n",
    "- $x_i$ — наблюдаемое значение таргета\n",
    "\n",
    "### Глоссарий\n",
    "**Просьюмер** — \n",
    "1. человек, который покупает электронные товары, являющиеся стандартом между товарами, предназначенными для потребителей, и профессионалами\n",
    "2. потребитель, который участвует в разработке или настройке продуктов для своих собственных нужд\n",
    "\n",
    "В текущем проекте считаем просьюмером любого потребителя электроэнергии.\n",
    "\n",
    "**EICs** — European Identifier Code."
   ]
  },
  {
   "cell_type": "markdown",
   "id": "2b647811",
   "metadata": {},
   "source": [
    "# Оглавление\n",
    "1. [Предобработка данных](#preprocessing)\n",
    "    1. [Знакомство с данными](#data-familiarization)\n",
    "    2. [Удаление пропусков](#problem-solving)\n",
    "\n"
   ]
  },
  {
   "cell_type": "code",
   "execution_count": 1,
   "id": "11601c5c",
   "metadata": {
    "tags": []
   },
   "outputs": [],
   "source": [
    "##  Знакомство с данными <a class=\"anchor\" id=\"data-familiarization\"></a>"
   ]
  },
  {
   "cell_type": "markdown",
   "id": "28daa457",
   "metadata": {},
   "source": [
    "# Предобработка данных <a class=\"anchor\" id=\"preprocessing\"></a>"
   ]
  },
  {
   "cell_type": "markdown",
   "id": "0ebffb61",
   "metadata": {
    "tags": []
   },
   "source": [
    "##  Знакомство с данными <a class=\"anchor\" id=\"data-familiarization\"></a>"
   ]
  },
  {
   "cell_type": "code",
   "execution_count": 2,
   "id": "fbf692ed",
   "metadata": {
    "tags": []
   },
   "outputs": [],
   "source": [
    "import os\n",
    "import pandas as pd\n",
    "import numpy as np\n",
    "import seaborn as sns\n",
    "import matplotlib.pyplot as plt\n",
    "\n",
    "from typing import List\n",
    "from statsmodels.tsa.seasonal import seasonal_decompose\n",
    "from sklearn.model_selection import train_test_split, TimeSeriesSplit\n",
    "import warnings\n",
    "\n",
    "\n",
    "# запишем путь директории\n",
    "basedir = os.path.abspath(os.getcwd())\n",
    "sns.set_style(\"darkgrid\")\n",
    "warnings.filterwarnings('ignore')"
   ]
  },
  {
   "cell_type": "code",
   "execution_count": 3,
   "id": "cacba648",
   "metadata": {
    "tags": []
   },
   "outputs": [],
   "source": [
    "# загрузим данные\n",
    "try:\n",
    "    clients = pd.read_csv(os.path.join(basedir, 'data/client.csv'))\n",
    "    train = pd.read_csv(os.path.join(basedir, 'data/train.csv'))\n",
    "    gas_prices = pd.read_csv(os.path.join(basedir, 'data/gas_prices.csv'))\n",
    "    electricity_prices = pd.read_csv(os.path.join(basedir, 'data/electricity_prices.csv'))\n",
    "    # forecast_weather = pd.read_csv(os.path.join(basedir, 'data/forecast_weather.csv'))\n",
    "    # historical_weather = pd.read_csv(os.path.join(basedir, 'data/historical_weather.csv'))\n",
    "    # county_map = pd.read_json(os.path.join(basedir, 'data/county_id_to_name_map.json'), typ='series')\n",
    "except:\n",
    "    raise Exception('Check the files')"
   ]
  },
  {
   "cell_type": "code",
   "execution_count": 4,
   "id": "271c94cb",
   "metadata": {
    "tags": []
   },
   "outputs": [],
   "source": [
    "def get_dataset_info(df: pd.DataFrame) -> None:\n",
    "    \"\"\"\n",
    "    Функция выводит общую инфу\n",
    "    о датасете одним полем\n",
    "    \n",
    "    :param pd.DataFrame df: pandas-датафрейм, который нужно проанализировать\n",
    "    \"\"\"\n",
    "    display(df.head())\n",
    "    print('\\n')\n",
    "    print(df.info())\n",
    "    print('\\n')\n",
    "    display(df.describe())\n",
    "    print('\\n')\n",
    "    print(df.isna().sum())\n",
    "    print('\\n')\n",
    "    print(f'Дубликаты: {df.duplicated().sum()}')\n",
    "    print('it`s over')"
   ]
  },
  {
   "cell_type": "code",
   "execution_count": 5,
   "id": "0cfeb68b",
   "metadata": {
    "tags": []
   },
   "outputs": [
    {
     "data": {
      "text/html": [
       "<div>\n",
       "<style scoped>\n",
       "    .dataframe tbody tr th:only-of-type {\n",
       "        vertical-align: middle;\n",
       "    }\n",
       "\n",
       "    .dataframe tbody tr th {\n",
       "        vertical-align: top;\n",
       "    }\n",
       "\n",
       "    .dataframe thead th {\n",
       "        text-align: right;\n",
       "    }\n",
       "</style>\n",
       "<table border=\"1\" class=\"dataframe\">\n",
       "  <thead>\n",
       "    <tr style=\"text-align: right;\">\n",
       "      <th></th>\n",
       "      <th>product_type</th>\n",
       "      <th>county</th>\n",
       "      <th>eic_count</th>\n",
       "      <th>installed_capacity</th>\n",
       "      <th>is_business</th>\n",
       "      <th>date</th>\n",
       "      <th>data_block_id</th>\n",
       "    </tr>\n",
       "  </thead>\n",
       "  <tbody>\n",
       "    <tr>\n",
       "      <th>0</th>\n",
       "      <td>1</td>\n",
       "      <td>0</td>\n",
       "      <td>108</td>\n",
       "      <td>952.89</td>\n",
       "      <td>0</td>\n",
       "      <td>2021-09-01</td>\n",
       "      <td>2</td>\n",
       "    </tr>\n",
       "    <tr>\n",
       "      <th>1</th>\n",
       "      <td>2</td>\n",
       "      <td>0</td>\n",
       "      <td>17</td>\n",
       "      <td>166.40</td>\n",
       "      <td>0</td>\n",
       "      <td>2021-09-01</td>\n",
       "      <td>2</td>\n",
       "    </tr>\n",
       "    <tr>\n",
       "      <th>2</th>\n",
       "      <td>3</td>\n",
       "      <td>0</td>\n",
       "      <td>688</td>\n",
       "      <td>7207.88</td>\n",
       "      <td>0</td>\n",
       "      <td>2021-09-01</td>\n",
       "      <td>2</td>\n",
       "    </tr>\n",
       "    <tr>\n",
       "      <th>3</th>\n",
       "      <td>0</td>\n",
       "      <td>0</td>\n",
       "      <td>5</td>\n",
       "      <td>400.00</td>\n",
       "      <td>1</td>\n",
       "      <td>2021-09-01</td>\n",
       "      <td>2</td>\n",
       "    </tr>\n",
       "    <tr>\n",
       "      <th>4</th>\n",
       "      <td>1</td>\n",
       "      <td>0</td>\n",
       "      <td>43</td>\n",
       "      <td>1411.00</td>\n",
       "      <td>1</td>\n",
       "      <td>2021-09-01</td>\n",
       "      <td>2</td>\n",
       "    </tr>\n",
       "  </tbody>\n",
       "</table>\n",
       "</div>"
      ],
      "text/plain": [
       "   product_type  county  eic_count  installed_capacity  is_business  \\\n",
       "0             1       0        108              952.89            0   \n",
       "1             2       0         17              166.40            0   \n",
       "2             3       0        688             7207.88            0   \n",
       "3             0       0          5              400.00            1   \n",
       "4             1       0         43             1411.00            1   \n",
       "\n",
       "         date  data_block_id  \n",
       "0  2021-09-01              2  \n",
       "1  2021-09-01              2  \n",
       "2  2021-09-01              2  \n",
       "3  2021-09-01              2  \n",
       "4  2021-09-01              2  "
      ]
     },
     "metadata": {},
     "output_type": "display_data"
    },
    {
     "name": "stdout",
     "output_type": "stream",
     "text": [
      "\n",
      "\n",
      "<class 'pandas.core.frame.DataFrame'>\n",
      "RangeIndex: 41919 entries, 0 to 41918\n",
      "Data columns (total 7 columns):\n",
      " #   Column              Non-Null Count  Dtype  \n",
      "---  ------              --------------  -----  \n",
      " 0   product_type        41919 non-null  int64  \n",
      " 1   county              41919 non-null  int64  \n",
      " 2   eic_count           41919 non-null  int64  \n",
      " 3   installed_capacity  41919 non-null  float64\n",
      " 4   is_business         41919 non-null  int64  \n",
      " 5   date                41919 non-null  object \n",
      " 6   data_block_id       41919 non-null  int64  \n",
      "dtypes: float64(1), int64(5), object(1)\n",
      "memory usage: 2.2+ MB\n",
      "None\n",
      "\n",
      "\n"
     ]
    },
    {
     "data": {
      "text/html": [
       "<div>\n",
       "<style scoped>\n",
       "    .dataframe tbody tr th:only-of-type {\n",
       "        vertical-align: middle;\n",
       "    }\n",
       "\n",
       "    .dataframe tbody tr th {\n",
       "        vertical-align: top;\n",
       "    }\n",
       "\n",
       "    .dataframe thead th {\n",
       "        text-align: right;\n",
       "    }\n",
       "</style>\n",
       "<table border=\"1\" class=\"dataframe\">\n",
       "  <thead>\n",
       "    <tr style=\"text-align: right;\">\n",
       "      <th></th>\n",
       "      <th>product_type</th>\n",
       "      <th>county</th>\n",
       "      <th>eic_count</th>\n",
       "      <th>installed_capacity</th>\n",
       "      <th>is_business</th>\n",
       "      <th>data_block_id</th>\n",
       "    </tr>\n",
       "  </thead>\n",
       "  <tbody>\n",
       "    <tr>\n",
       "      <th>count</th>\n",
       "      <td>41919.000000</td>\n",
       "      <td>41919.000000</td>\n",
       "      <td>41919.000000</td>\n",
       "      <td>41919.000000</td>\n",
       "      <td>41919.000000</td>\n",
       "      <td>41919.000000</td>\n",
       "    </tr>\n",
       "    <tr>\n",
       "      <th>mean</th>\n",
       "      <td>1.898996</td>\n",
       "      <td>7.297097</td>\n",
       "      <td>73.345118</td>\n",
       "      <td>1450.771451</td>\n",
       "      <td>0.536773</td>\n",
       "      <td>322.898876</td>\n",
       "    </tr>\n",
       "    <tr>\n",
       "      <th>std</th>\n",
       "      <td>1.081713</td>\n",
       "      <td>4.780750</td>\n",
       "      <td>144.064389</td>\n",
       "      <td>2422.233120</td>\n",
       "      <td>0.498652</td>\n",
       "      <td>182.075724</td>\n",
       "    </tr>\n",
       "    <tr>\n",
       "      <th>min</th>\n",
       "      <td>0.000000</td>\n",
       "      <td>0.000000</td>\n",
       "      <td>5.000000</td>\n",
       "      <td>5.500000</td>\n",
       "      <td>0.000000</td>\n",
       "      <td>2.000000</td>\n",
       "    </tr>\n",
       "    <tr>\n",
       "      <th>25%</th>\n",
       "      <td>1.000000</td>\n",
       "      <td>3.000000</td>\n",
       "      <td>13.000000</td>\n",
       "      <td>321.900000</td>\n",
       "      <td>0.000000</td>\n",
       "      <td>167.000000</td>\n",
       "    </tr>\n",
       "    <tr>\n",
       "      <th>50%</th>\n",
       "      <td>2.000000</td>\n",
       "      <td>7.000000</td>\n",
       "      <td>32.000000</td>\n",
       "      <td>645.200000</td>\n",
       "      <td>1.000000</td>\n",
       "      <td>324.000000</td>\n",
       "    </tr>\n",
       "    <tr>\n",
       "      <th>75%</th>\n",
       "      <td>3.000000</td>\n",
       "      <td>11.000000</td>\n",
       "      <td>70.000000</td>\n",
       "      <td>1567.150000</td>\n",
       "      <td>1.000000</td>\n",
       "      <td>480.000000</td>\n",
       "    </tr>\n",
       "    <tr>\n",
       "      <th>max</th>\n",
       "      <td>3.000000</td>\n",
       "      <td>15.000000</td>\n",
       "      <td>1517.000000</td>\n",
       "      <td>19314.310000</td>\n",
       "      <td>1.000000</td>\n",
       "      <td>637.000000</td>\n",
       "    </tr>\n",
       "  </tbody>\n",
       "</table>\n",
       "</div>"
      ],
      "text/plain": [
       "       product_type        county     eic_count  installed_capacity  \\\n",
       "count  41919.000000  41919.000000  41919.000000        41919.000000   \n",
       "mean       1.898996      7.297097     73.345118         1450.771451   \n",
       "std        1.081713      4.780750    144.064389         2422.233120   \n",
       "min        0.000000      0.000000      5.000000            5.500000   \n",
       "25%        1.000000      3.000000     13.000000          321.900000   \n",
       "50%        2.000000      7.000000     32.000000          645.200000   \n",
       "75%        3.000000     11.000000     70.000000         1567.150000   \n",
       "max        3.000000     15.000000   1517.000000        19314.310000   \n",
       "\n",
       "        is_business  data_block_id  \n",
       "count  41919.000000   41919.000000  \n",
       "mean       0.536773     322.898876  \n",
       "std        0.498652     182.075724  \n",
       "min        0.000000       2.000000  \n",
       "25%        0.000000     167.000000  \n",
       "50%        1.000000     324.000000  \n",
       "75%        1.000000     480.000000  \n",
       "max        1.000000     637.000000  "
      ]
     },
     "metadata": {},
     "output_type": "display_data"
    },
    {
     "name": "stdout",
     "output_type": "stream",
     "text": [
      "\n",
      "\n",
      "product_type          0\n",
      "county                0\n",
      "eic_count             0\n",
      "installed_capacity    0\n",
      "is_business           0\n",
      "date                  0\n",
      "data_block_id         0\n",
      "dtype: int64\n",
      "\n",
      "\n",
      "Дубликаты: 0\n",
      "it`s over\n"
     ]
    }
   ],
   "source": [
    "get_dataset_info(clients)"
   ]
  },
  {
   "cell_type": "markdown",
   "id": "fca22cac",
   "metadata": {
    "tags": []
   },
   "source": [
    "Видим, что в этом датасете у нас 41919 объектов с обезличенной информацией о клиентах. Пропусков и полных дубликатов нет. Присутствуют следующие поля:\n",
    "- **product_type** — тип продукта\n",
    "- **county** — ID округа\n",
    "- **eic_count** — количество точек потребления\n",
    "- **installed_capacity** — установленная мощность фотоэлектрической солнечной панели в киловаттах\n",
    "- **is_business** — является ли просьюмер бизнесом\n",
    "- **date** — дата (вероятно, создания записи)\n",
    "- **data_block_id** — все строки с одним и тем же data_block_id будут доступны в одно и то же время прогноза. Это зависит от того, какая информация доступна во время фактических прогнозов, каждое утро в 11 часов утра. Например, если прогноз погоды data_block_id для предсказаний, сделанных 31 октября, равен 100, то исторический data_block_id погоды на 31 октября будет равен 101, поскольку исторические данные о погоде фактически доступны только на следующий день."
   ]
  },
  {
   "cell_type": "code",
   "execution_count": 6,
   "id": "ce48ab22",
   "metadata": {
    "tags": []
   },
   "outputs": [
    {
     "data": {
      "text/html": [
       "<div>\n",
       "<style scoped>\n",
       "    .dataframe tbody tr th:only-of-type {\n",
       "        vertical-align: middle;\n",
       "    }\n",
       "\n",
       "    .dataframe tbody tr th {\n",
       "        vertical-align: top;\n",
       "    }\n",
       "\n",
       "    .dataframe thead th {\n",
       "        text-align: right;\n",
       "    }\n",
       "</style>\n",
       "<table border=\"1\" class=\"dataframe\">\n",
       "  <thead>\n",
       "    <tr style=\"text-align: right;\">\n",
       "      <th></th>\n",
       "      <th>county</th>\n",
       "      <th>is_business</th>\n",
       "      <th>product_type</th>\n",
       "      <th>target</th>\n",
       "      <th>is_consumption</th>\n",
       "      <th>datetime</th>\n",
       "      <th>data_block_id</th>\n",
       "      <th>row_id</th>\n",
       "      <th>prediction_unit_id</th>\n",
       "    </tr>\n",
       "  </thead>\n",
       "  <tbody>\n",
       "    <tr>\n",
       "      <th>0</th>\n",
       "      <td>0</td>\n",
       "      <td>0</td>\n",
       "      <td>1</td>\n",
       "      <td>0.713</td>\n",
       "      <td>0</td>\n",
       "      <td>2021-09-01 00:00:00</td>\n",
       "      <td>0</td>\n",
       "      <td>0</td>\n",
       "      <td>0</td>\n",
       "    </tr>\n",
       "    <tr>\n",
       "      <th>1</th>\n",
       "      <td>0</td>\n",
       "      <td>0</td>\n",
       "      <td>1</td>\n",
       "      <td>96.590</td>\n",
       "      <td>1</td>\n",
       "      <td>2021-09-01 00:00:00</td>\n",
       "      <td>0</td>\n",
       "      <td>1</td>\n",
       "      <td>0</td>\n",
       "    </tr>\n",
       "    <tr>\n",
       "      <th>2</th>\n",
       "      <td>0</td>\n",
       "      <td>0</td>\n",
       "      <td>2</td>\n",
       "      <td>0.000</td>\n",
       "      <td>0</td>\n",
       "      <td>2021-09-01 00:00:00</td>\n",
       "      <td>0</td>\n",
       "      <td>2</td>\n",
       "      <td>1</td>\n",
       "    </tr>\n",
       "    <tr>\n",
       "      <th>3</th>\n",
       "      <td>0</td>\n",
       "      <td>0</td>\n",
       "      <td>2</td>\n",
       "      <td>17.314</td>\n",
       "      <td>1</td>\n",
       "      <td>2021-09-01 00:00:00</td>\n",
       "      <td>0</td>\n",
       "      <td>3</td>\n",
       "      <td>1</td>\n",
       "    </tr>\n",
       "    <tr>\n",
       "      <th>4</th>\n",
       "      <td>0</td>\n",
       "      <td>0</td>\n",
       "      <td>3</td>\n",
       "      <td>2.904</td>\n",
       "      <td>0</td>\n",
       "      <td>2021-09-01 00:00:00</td>\n",
       "      <td>0</td>\n",
       "      <td>4</td>\n",
       "      <td>2</td>\n",
       "    </tr>\n",
       "  </tbody>\n",
       "</table>\n",
       "</div>"
      ],
      "text/plain": [
       "   county  is_business  product_type  target  is_consumption  \\\n",
       "0       0            0             1   0.713               0   \n",
       "1       0            0             1  96.590               1   \n",
       "2       0            0             2   0.000               0   \n",
       "3       0            0             2  17.314               1   \n",
       "4       0            0             3   2.904               0   \n",
       "\n",
       "              datetime  data_block_id  row_id  prediction_unit_id  \n",
       "0  2021-09-01 00:00:00              0       0                   0  \n",
       "1  2021-09-01 00:00:00              0       1                   0  \n",
       "2  2021-09-01 00:00:00              0       2                   1  \n",
       "3  2021-09-01 00:00:00              0       3                   1  \n",
       "4  2021-09-01 00:00:00              0       4                   2  "
      ]
     },
     "metadata": {},
     "output_type": "display_data"
    },
    {
     "name": "stdout",
     "output_type": "stream",
     "text": [
      "\n",
      "\n",
      "<class 'pandas.core.frame.DataFrame'>\n",
      "RangeIndex: 2018352 entries, 0 to 2018351\n",
      "Data columns (total 9 columns):\n",
      " #   Column              Dtype  \n",
      "---  ------              -----  \n",
      " 0   county              int64  \n",
      " 1   is_business         int64  \n",
      " 2   product_type        int64  \n",
      " 3   target              float64\n",
      " 4   is_consumption      int64  \n",
      " 5   datetime            object \n",
      " 6   data_block_id       int64  \n",
      " 7   row_id              int64  \n",
      " 8   prediction_unit_id  int64  \n",
      "dtypes: float64(1), int64(7), object(1)\n",
      "memory usage: 138.6+ MB\n",
      "None\n",
      "\n",
      "\n"
     ]
    },
    {
     "data": {
      "text/html": [
       "<div>\n",
       "<style scoped>\n",
       "    .dataframe tbody tr th:only-of-type {\n",
       "        vertical-align: middle;\n",
       "    }\n",
       "\n",
       "    .dataframe tbody tr th {\n",
       "        vertical-align: top;\n",
       "    }\n",
       "\n",
       "    .dataframe thead th {\n",
       "        text-align: right;\n",
       "    }\n",
       "</style>\n",
       "<table border=\"1\" class=\"dataframe\">\n",
       "  <thead>\n",
       "    <tr style=\"text-align: right;\">\n",
       "      <th></th>\n",
       "      <th>county</th>\n",
       "      <th>is_business</th>\n",
       "      <th>product_type</th>\n",
       "      <th>target</th>\n",
       "      <th>is_consumption</th>\n",
       "      <th>data_block_id</th>\n",
       "      <th>row_id</th>\n",
       "      <th>prediction_unit_id</th>\n",
       "    </tr>\n",
       "  </thead>\n",
       "  <tbody>\n",
       "    <tr>\n",
       "      <th>count</th>\n",
       "      <td>2.018352e+06</td>\n",
       "      <td>2.018352e+06</td>\n",
       "      <td>2.018352e+06</td>\n",
       "      <td>2.017824e+06</td>\n",
       "      <td>2018352.0</td>\n",
       "      <td>2.018352e+06</td>\n",
       "      <td>2.018352e+06</td>\n",
       "      <td>2.018352e+06</td>\n",
       "    </tr>\n",
       "    <tr>\n",
       "      <th>mean</th>\n",
       "      <td>7.297034e+00</td>\n",
       "      <td>5.368261e-01</td>\n",
       "      <td>1.898927e+00</td>\n",
       "      <td>2.748556e+02</td>\n",
       "      <td>0.5</td>\n",
       "      <td>3.218746e+02</td>\n",
       "      <td>1.009176e+06</td>\n",
       "      <td>3.304538e+01</td>\n",
       "    </tr>\n",
       "    <tr>\n",
       "      <th>std</th>\n",
       "      <td>4.780990e+00</td>\n",
       "      <td>4.986421e-01</td>\n",
       "      <td>1.081766e+00</td>\n",
       "      <td>9.095024e+02</td>\n",
       "      <td>0.5</td>\n",
       "      <td>1.826343e+02</td>\n",
       "      <td>5.826482e+05</td>\n",
       "      <td>1.959059e+01</td>\n",
       "    </tr>\n",
       "    <tr>\n",
       "      <th>min</th>\n",
       "      <td>0.000000e+00</td>\n",
       "      <td>0.000000e+00</td>\n",
       "      <td>0.000000e+00</td>\n",
       "      <td>0.000000e+00</td>\n",
       "      <td>0.0</td>\n",
       "      <td>0.000000e+00</td>\n",
       "      <td>0.000000e+00</td>\n",
       "      <td>0.000000e+00</td>\n",
       "    </tr>\n",
       "    <tr>\n",
       "      <th>25%</th>\n",
       "      <td>3.000000e+00</td>\n",
       "      <td>0.000000e+00</td>\n",
       "      <td>1.000000e+00</td>\n",
       "      <td>3.780000e-01</td>\n",
       "      <td>0.0</td>\n",
       "      <td>1.660000e+02</td>\n",
       "      <td>5.045878e+05</td>\n",
       "      <td>1.600000e+01</td>\n",
       "    </tr>\n",
       "    <tr>\n",
       "      <th>50%</th>\n",
       "      <td>7.000000e+00</td>\n",
       "      <td>1.000000e+00</td>\n",
       "      <td>2.000000e+00</td>\n",
       "      <td>3.113300e+01</td>\n",
       "      <td>0.5</td>\n",
       "      <td>3.230000e+02</td>\n",
       "      <td>1.009176e+06</td>\n",
       "      <td>3.300000e+01</td>\n",
       "    </tr>\n",
       "    <tr>\n",
       "      <th>75%</th>\n",
       "      <td>1.100000e+01</td>\n",
       "      <td>1.000000e+00</td>\n",
       "      <td>3.000000e+00</td>\n",
       "      <td>1.802062e+02</td>\n",
       "      <td>1.0</td>\n",
       "      <td>4.790000e+02</td>\n",
       "      <td>1.513763e+06</td>\n",
       "      <td>5.000000e+01</td>\n",
       "    </tr>\n",
       "    <tr>\n",
       "      <th>max</th>\n",
       "      <td>1.500000e+01</td>\n",
       "      <td>1.000000e+00</td>\n",
       "      <td>3.000000e+00</td>\n",
       "      <td>1.548027e+04</td>\n",
       "      <td>1.0</td>\n",
       "      <td>6.370000e+02</td>\n",
       "      <td>2.018351e+06</td>\n",
       "      <td>6.800000e+01</td>\n",
       "    </tr>\n",
       "  </tbody>\n",
       "</table>\n",
       "</div>"
      ],
      "text/plain": [
       "             county   is_business  product_type        target  is_consumption  \\\n",
       "count  2.018352e+06  2.018352e+06  2.018352e+06  2.017824e+06       2018352.0   \n",
       "mean   7.297034e+00  5.368261e-01  1.898927e+00  2.748556e+02             0.5   \n",
       "std    4.780990e+00  4.986421e-01  1.081766e+00  9.095024e+02             0.5   \n",
       "min    0.000000e+00  0.000000e+00  0.000000e+00  0.000000e+00             0.0   \n",
       "25%    3.000000e+00  0.000000e+00  1.000000e+00  3.780000e-01             0.0   \n",
       "50%    7.000000e+00  1.000000e+00  2.000000e+00  3.113300e+01             0.5   \n",
       "75%    1.100000e+01  1.000000e+00  3.000000e+00  1.802062e+02             1.0   \n",
       "max    1.500000e+01  1.000000e+00  3.000000e+00  1.548027e+04             1.0   \n",
       "\n",
       "       data_block_id        row_id  prediction_unit_id  \n",
       "count   2.018352e+06  2.018352e+06        2.018352e+06  \n",
       "mean    3.218746e+02  1.009176e+06        3.304538e+01  \n",
       "std     1.826343e+02  5.826482e+05        1.959059e+01  \n",
       "min     0.000000e+00  0.000000e+00        0.000000e+00  \n",
       "25%     1.660000e+02  5.045878e+05        1.600000e+01  \n",
       "50%     3.230000e+02  1.009176e+06        3.300000e+01  \n",
       "75%     4.790000e+02  1.513763e+06        5.000000e+01  \n",
       "max     6.370000e+02  2.018351e+06        6.800000e+01  "
      ]
     },
     "metadata": {},
     "output_type": "display_data"
    },
    {
     "name": "stdout",
     "output_type": "stream",
     "text": [
      "\n",
      "\n",
      "county                  0\n",
      "is_business             0\n",
      "product_type            0\n",
      "target                528\n",
      "is_consumption          0\n",
      "datetime                0\n",
      "data_block_id           0\n",
      "row_id                  0\n",
      "prediction_unit_id      0\n",
      "dtype: int64\n",
      "\n",
      "\n",
      "Дубликаты: 0\n",
      "it`s over\n"
     ]
    }
   ],
   "source": [
    "get_dataset_info(train)"
   ]
  },
  {
   "cell_type": "markdown",
   "id": "b41fc6aa",
   "metadata": {},
   "source": [
    "В трейне у нас чуть более 2 миллионов объектов, у которых 528 пропусков в таргете. Учитывая, что их очень мало, эти строки просто удалим позже.\n",
    "Поля:\n",
    "- **county** — идентификационный код округа.\n",
    "- **is_business** — логическое значение, определяющее, является ли просьюмер бизнесом.\n",
    "- **product_type** — идентификационный код со следующим сопоставлением кодов типам контрактов: \n",
    "    - 0: «Комбинированный»\n",
    "    - 1: «Фиксированный»\n",
    "    - 2: «Общий сервис»\n",
    "    - 3: «Спотовый»\n",
    "- **target** — объем потребления или производства для соответствующего сегмента за час. Сегменты определяются округом, is_business и Product_type.\n",
    "- **is_consumption** — логическое значение, указывающее, является ли целью этой строки потребление или производство.\n",
    "- **datetime** — эстонское время в формате EET (UTC+2) / EEST (UTC+3).\n",
    "- **data_block_id** — все строки с одним и тем же data_block_id будут доступны в одно и то же время прогноза. Это зависит от того, какая информация доступна во время фактических прогнозов, каждое утро в 11 часов утра. Например, если прогноз погоды data_block_id для предсказаний, сделанных 31 октября, равен 100, то исторический data_block_id погоды на 31 октября будет равен 101, поскольку исторические данные о погоде фактически доступны только на следующий день.\n",
    "- **row_id** — уникальный идентификатор строки.\n",
    "- **prediction_unit_id** — уникальный идентификатор для комбинации округа, is_business и Product_type. Новые единицы прогнозирования могут появляться или исчезать в тестовом наборе."
   ]
  },
  {
   "cell_type": "code",
   "execution_count": 7,
   "id": "cac0437c",
   "metadata": {
    "tags": []
   },
   "outputs": [
    {
     "data": {
      "text/html": [
       "<div>\n",
       "<style scoped>\n",
       "    .dataframe tbody tr th:only-of-type {\n",
       "        vertical-align: middle;\n",
       "    }\n",
       "\n",
       "    .dataframe tbody tr th {\n",
       "        vertical-align: top;\n",
       "    }\n",
       "\n",
       "    .dataframe thead th {\n",
       "        text-align: right;\n",
       "    }\n",
       "</style>\n",
       "<table border=\"1\" class=\"dataframe\">\n",
       "  <thead>\n",
       "    <tr style=\"text-align: right;\">\n",
       "      <th></th>\n",
       "      <th>forecast_date</th>\n",
       "      <th>lowest_price_per_mwh</th>\n",
       "      <th>highest_price_per_mwh</th>\n",
       "      <th>origin_date</th>\n",
       "      <th>data_block_id</th>\n",
       "    </tr>\n",
       "  </thead>\n",
       "  <tbody>\n",
       "    <tr>\n",
       "      <th>0</th>\n",
       "      <td>2021-09-01</td>\n",
       "      <td>45.23</td>\n",
       "      <td>46.32</td>\n",
       "      <td>2021-08-31</td>\n",
       "      <td>1</td>\n",
       "    </tr>\n",
       "    <tr>\n",
       "      <th>1</th>\n",
       "      <td>2021-09-02</td>\n",
       "      <td>45.62</td>\n",
       "      <td>46.29</td>\n",
       "      <td>2021-09-01</td>\n",
       "      <td>2</td>\n",
       "    </tr>\n",
       "    <tr>\n",
       "      <th>2</th>\n",
       "      <td>2021-09-03</td>\n",
       "      <td>45.85</td>\n",
       "      <td>46.40</td>\n",
       "      <td>2021-09-02</td>\n",
       "      <td>3</td>\n",
       "    </tr>\n",
       "    <tr>\n",
       "      <th>3</th>\n",
       "      <td>2021-09-04</td>\n",
       "      <td>46.30</td>\n",
       "      <td>46.80</td>\n",
       "      <td>2021-09-03</td>\n",
       "      <td>4</td>\n",
       "    </tr>\n",
       "    <tr>\n",
       "      <th>4</th>\n",
       "      <td>2021-09-05</td>\n",
       "      <td>46.30</td>\n",
       "      <td>46.58</td>\n",
       "      <td>2021-09-04</td>\n",
       "      <td>5</td>\n",
       "    </tr>\n",
       "  </tbody>\n",
       "</table>\n",
       "</div>"
      ],
      "text/plain": [
       "  forecast_date  lowest_price_per_mwh  highest_price_per_mwh origin_date  \\\n",
       "0    2021-09-01                 45.23                  46.32  2021-08-31   \n",
       "1    2021-09-02                 45.62                  46.29  2021-09-01   \n",
       "2    2021-09-03                 45.85                  46.40  2021-09-02   \n",
       "3    2021-09-04                 46.30                  46.80  2021-09-03   \n",
       "4    2021-09-05                 46.30                  46.58  2021-09-04   \n",
       "\n",
       "   data_block_id  \n",
       "0              1  \n",
       "1              2  \n",
       "2              3  \n",
       "3              4  \n",
       "4              5  "
      ]
     },
     "metadata": {},
     "output_type": "display_data"
    },
    {
     "name": "stdout",
     "output_type": "stream",
     "text": [
      "\n",
      "\n",
      "<class 'pandas.core.frame.DataFrame'>\n",
      "RangeIndex: 637 entries, 0 to 636\n",
      "Data columns (total 5 columns):\n",
      " #   Column                 Non-Null Count  Dtype  \n",
      "---  ------                 --------------  -----  \n",
      " 0   forecast_date          637 non-null    object \n",
      " 1   lowest_price_per_mwh   637 non-null    float64\n",
      " 2   highest_price_per_mwh  637 non-null    float64\n",
      " 3   origin_date            637 non-null    object \n",
      " 4   data_block_id          637 non-null    int64  \n",
      "dtypes: float64(2), int64(1), object(2)\n",
      "memory usage: 25.0+ KB\n",
      "None\n",
      "\n",
      "\n"
     ]
    },
    {
     "data": {
      "text/html": [
       "<div>\n",
       "<style scoped>\n",
       "    .dataframe tbody tr th:only-of-type {\n",
       "        vertical-align: middle;\n",
       "    }\n",
       "\n",
       "    .dataframe tbody tr th {\n",
       "        vertical-align: top;\n",
       "    }\n",
       "\n",
       "    .dataframe thead th {\n",
       "        text-align: right;\n",
       "    }\n",
       "</style>\n",
       "<table border=\"1\" class=\"dataframe\">\n",
       "  <thead>\n",
       "    <tr style=\"text-align: right;\">\n",
       "      <th></th>\n",
       "      <th>lowest_price_per_mwh</th>\n",
       "      <th>highest_price_per_mwh</th>\n",
       "      <th>data_block_id</th>\n",
       "    </tr>\n",
       "  </thead>\n",
       "  <tbody>\n",
       "    <tr>\n",
       "      <th>count</th>\n",
       "      <td>637.000000</td>\n",
       "      <td>637.000000</td>\n",
       "      <td>637.000000</td>\n",
       "    </tr>\n",
       "    <tr>\n",
       "      <th>mean</th>\n",
       "      <td>95.036750</td>\n",
       "      <td>107.754631</td>\n",
       "      <td>319.000000</td>\n",
       "    </tr>\n",
       "    <tr>\n",
       "      <th>std</th>\n",
       "      <td>47.552295</td>\n",
       "      <td>54.743666</td>\n",
       "      <td>184.030342</td>\n",
       "    </tr>\n",
       "    <tr>\n",
       "      <th>min</th>\n",
       "      <td>28.100000</td>\n",
       "      <td>34.000000</td>\n",
       "      <td>1.000000</td>\n",
       "    </tr>\n",
       "    <tr>\n",
       "      <th>25%</th>\n",
       "      <td>60.000000</td>\n",
       "      <td>67.530000</td>\n",
       "      <td>160.000000</td>\n",
       "    </tr>\n",
       "    <tr>\n",
       "      <th>50%</th>\n",
       "      <td>85.210000</td>\n",
       "      <td>93.470000</td>\n",
       "      <td>319.000000</td>\n",
       "    </tr>\n",
       "    <tr>\n",
       "      <th>75%</th>\n",
       "      <td>109.000000</td>\n",
       "      <td>130.740000</td>\n",
       "      <td>478.000000</td>\n",
       "    </tr>\n",
       "    <tr>\n",
       "      <th>max</th>\n",
       "      <td>250.000000</td>\n",
       "      <td>305.000000</td>\n",
       "      <td>637.000000</td>\n",
       "    </tr>\n",
       "  </tbody>\n",
       "</table>\n",
       "</div>"
      ],
      "text/plain": [
       "       lowest_price_per_mwh  highest_price_per_mwh  data_block_id\n",
       "count            637.000000             637.000000     637.000000\n",
       "mean              95.036750             107.754631     319.000000\n",
       "std               47.552295              54.743666     184.030342\n",
       "min               28.100000              34.000000       1.000000\n",
       "25%               60.000000              67.530000     160.000000\n",
       "50%               85.210000              93.470000     319.000000\n",
       "75%              109.000000             130.740000     478.000000\n",
       "max              250.000000             305.000000     637.000000"
      ]
     },
     "metadata": {},
     "output_type": "display_data"
    },
    {
     "name": "stdout",
     "output_type": "stream",
     "text": [
      "\n",
      "\n",
      "forecast_date            0\n",
      "lowest_price_per_mwh     0\n",
      "highest_price_per_mwh    0\n",
      "origin_date              0\n",
      "data_block_id            0\n",
      "dtype: int64\n",
      "\n",
      "\n",
      "Дубликаты: 0\n",
      "it`s over\n"
     ]
    }
   ],
   "source": [
    "get_dataset_info(gas_prices)"
   ]
  },
  {
   "cell_type": "markdown",
   "id": "5ba92859",
   "metadata": {},
   "source": [
    "Здесь у нас информация по прогнозу цен на топливо.\n",
    "- **origin_date** — дата, когда стали доступны цены на сутки вперед.\n",
    "- **forecast_date**  — дата, когда прогнозные цены должны быть актуальными.\n",
    "- **(lowest/highest)_price_per_mwh** — самая низкая/самая высокая цена природного газа, которая будет продаваться на день вперед в этот торговый день, в евро за эквивалент мегаватт-часа.\n",
    "- **data_block_id**"
   ]
  },
  {
   "cell_type": "code",
   "execution_count": 8,
   "id": "2a1802e1",
   "metadata": {
    "tags": []
   },
   "outputs": [
    {
     "data": {
      "text/html": [
       "<div>\n",
       "<style scoped>\n",
       "    .dataframe tbody tr th:only-of-type {\n",
       "        vertical-align: middle;\n",
       "    }\n",
       "\n",
       "    .dataframe tbody tr th {\n",
       "        vertical-align: top;\n",
       "    }\n",
       "\n",
       "    .dataframe thead th {\n",
       "        text-align: right;\n",
       "    }\n",
       "</style>\n",
       "<table border=\"1\" class=\"dataframe\">\n",
       "  <thead>\n",
       "    <tr style=\"text-align: right;\">\n",
       "      <th></th>\n",
       "      <th>forecast_date</th>\n",
       "      <th>euros_per_mwh</th>\n",
       "      <th>origin_date</th>\n",
       "      <th>data_block_id</th>\n",
       "    </tr>\n",
       "  </thead>\n",
       "  <tbody>\n",
       "    <tr>\n",
       "      <th>0</th>\n",
       "      <td>2021-09-01 00:00:00</td>\n",
       "      <td>92.51</td>\n",
       "      <td>2021-08-31 00:00:00</td>\n",
       "      <td>1</td>\n",
       "    </tr>\n",
       "    <tr>\n",
       "      <th>1</th>\n",
       "      <td>2021-09-01 01:00:00</td>\n",
       "      <td>88.90</td>\n",
       "      <td>2021-08-31 01:00:00</td>\n",
       "      <td>1</td>\n",
       "    </tr>\n",
       "    <tr>\n",
       "      <th>2</th>\n",
       "      <td>2021-09-01 02:00:00</td>\n",
       "      <td>87.35</td>\n",
       "      <td>2021-08-31 02:00:00</td>\n",
       "      <td>1</td>\n",
       "    </tr>\n",
       "    <tr>\n",
       "      <th>3</th>\n",
       "      <td>2021-09-01 03:00:00</td>\n",
       "      <td>86.88</td>\n",
       "      <td>2021-08-31 03:00:00</td>\n",
       "      <td>1</td>\n",
       "    </tr>\n",
       "    <tr>\n",
       "      <th>4</th>\n",
       "      <td>2021-09-01 04:00:00</td>\n",
       "      <td>88.43</td>\n",
       "      <td>2021-08-31 04:00:00</td>\n",
       "      <td>1</td>\n",
       "    </tr>\n",
       "  </tbody>\n",
       "</table>\n",
       "</div>"
      ],
      "text/plain": [
       "         forecast_date  euros_per_mwh          origin_date  data_block_id\n",
       "0  2021-09-01 00:00:00          92.51  2021-08-31 00:00:00              1\n",
       "1  2021-09-01 01:00:00          88.90  2021-08-31 01:00:00              1\n",
       "2  2021-09-01 02:00:00          87.35  2021-08-31 02:00:00              1\n",
       "3  2021-09-01 03:00:00          86.88  2021-08-31 03:00:00              1\n",
       "4  2021-09-01 04:00:00          88.43  2021-08-31 04:00:00              1"
      ]
     },
     "metadata": {},
     "output_type": "display_data"
    },
    {
     "name": "stdout",
     "output_type": "stream",
     "text": [
      "\n",
      "\n",
      "<class 'pandas.core.frame.DataFrame'>\n",
      "RangeIndex: 15286 entries, 0 to 15285\n",
      "Data columns (total 4 columns):\n",
      " #   Column         Non-Null Count  Dtype  \n",
      "---  ------         --------------  -----  \n",
      " 0   forecast_date  15286 non-null  object \n",
      " 1   euros_per_mwh  15286 non-null  float64\n",
      " 2   origin_date    15286 non-null  object \n",
      " 3   data_block_id  15286 non-null  int64  \n",
      "dtypes: float64(1), int64(1), object(2)\n",
      "memory usage: 477.8+ KB\n",
      "None\n",
      "\n",
      "\n"
     ]
    },
    {
     "data": {
      "text/html": [
       "<div>\n",
       "<style scoped>\n",
       "    .dataframe tbody tr th:only-of-type {\n",
       "        vertical-align: middle;\n",
       "    }\n",
       "\n",
       "    .dataframe tbody tr th {\n",
       "        vertical-align: top;\n",
       "    }\n",
       "\n",
       "    .dataframe thead th {\n",
       "        text-align: right;\n",
       "    }\n",
       "</style>\n",
       "<table border=\"1\" class=\"dataframe\">\n",
       "  <thead>\n",
       "    <tr style=\"text-align: right;\">\n",
       "      <th></th>\n",
       "      <th>euros_per_mwh</th>\n",
       "      <th>data_block_id</th>\n",
       "    </tr>\n",
       "  </thead>\n",
       "  <tbody>\n",
       "    <tr>\n",
       "      <th>count</th>\n",
       "      <td>15286.000000</td>\n",
       "      <td>15286.000000</td>\n",
       "    </tr>\n",
       "    <tr>\n",
       "      <th>mean</th>\n",
       "      <td>157.064176</td>\n",
       "      <td>318.990710</td>\n",
       "    </tr>\n",
       "    <tr>\n",
       "      <th>std</th>\n",
       "      <td>121.148625</td>\n",
       "      <td>183.890301</td>\n",
       "    </tr>\n",
       "    <tr>\n",
       "      <th>min</th>\n",
       "      <td>-10.060000</td>\n",
       "      <td>1.000000</td>\n",
       "    </tr>\n",
       "    <tr>\n",
       "      <th>25%</th>\n",
       "      <td>85.290000</td>\n",
       "      <td>160.000000</td>\n",
       "    </tr>\n",
       "    <tr>\n",
       "      <th>50%</th>\n",
       "      <td>128.280000</td>\n",
       "      <td>319.000000</td>\n",
       "    </tr>\n",
       "    <tr>\n",
       "      <th>75%</th>\n",
       "      <td>199.797500</td>\n",
       "      <td>478.000000</td>\n",
       "    </tr>\n",
       "    <tr>\n",
       "      <th>max</th>\n",
       "      <td>4000.000000</td>\n",
       "      <td>637.000000</td>\n",
       "    </tr>\n",
       "  </tbody>\n",
       "</table>\n",
       "</div>"
      ],
      "text/plain": [
       "       euros_per_mwh  data_block_id\n",
       "count   15286.000000   15286.000000\n",
       "mean      157.064176     318.990710\n",
       "std       121.148625     183.890301\n",
       "min       -10.060000       1.000000\n",
       "25%        85.290000     160.000000\n",
       "50%       128.280000     319.000000\n",
       "75%       199.797500     478.000000\n",
       "max      4000.000000     637.000000"
      ]
     },
     "metadata": {},
     "output_type": "display_data"
    },
    {
     "name": "stdout",
     "output_type": "stream",
     "text": [
      "\n",
      "\n",
      "forecast_date    0\n",
      "euros_per_mwh    0\n",
      "origin_date      0\n",
      "data_block_id    0\n",
      "dtype: int64\n",
      "\n",
      "\n",
      "Дубликаты: 0\n",
      "it`s over\n"
     ]
    }
   ],
   "source": [
    "get_dataset_info(electricity_prices)"
   ]
  },
  {
   "cell_type": "markdown",
   "id": "a66194d3",
   "metadata": {},
   "source": [
    "Данные по ценам на электричество (почти аналогично газу):\n",
    "\n",
    "- **origin_date**\n",
    "- **forecast_date**\n",
    "- **euros_per_mwh** — цена на электроэнергию на завтрашний день торгуется в евро за мегаватт-час.\n",
    "- **data_block_id**"
   ]
  },
  {
   "cell_type": "code",
   "execution_count": 9,
   "id": "edf11fb3",
   "metadata": {
    "tags": []
   },
   "outputs": [],
   "source": [
    "# get_dataset_info(forecast_weather)"
   ]
  },
  {
   "cell_type": "markdown",
   "id": "82f5a7be",
   "metadata": {
    "tags": []
   },
   "source": [
    "Прогнозы погоды, которые были бы доступны на момент прогнозирования от Европейского центра среднесрочных прогнозов погоды. 3,5 миллионов записей.\n",
    "\n",
    "- **latitude, longitude** — координаты прогноза погоды.\n",
    "- **origin_datetime** — временная метка создания прогноза.\n",
    "- **hours_ahead** — количество часов между созданием прогноза и прогнозом погоды. Каждый прогноз охватывает в общей сложности 48 часов.\n",
    "- **temperature** — температура воздуха на высоте 2 метра над землей в градусах Цельсия.\n",
    "- **dewpoint** — температура точки росы на высоте 2 метра над землей в градусах Цельсия.\n",
    "- **cloudcover_(low/mid/high/total)** — процент неба, покрытого облаками в следующих диапазонах высот: 0–2 км, 2–6, 6+ и общий.\n",
    "- **10_metre_(u/v)_wind_component** — составляющая скорости ветра (восточное/северное направление), измеренная на высоте 10 метров над поверхностью земли в метрах в секунду.\n",
    "- **data_block_id**\n",
    "- **forecast_datetime** — временная метка прогнозируемой погоды. Генерируется из origin_datetime плюс hours_ahead.\n",
    "- **direct_solar_radiation** — прямая солнечная радиация, достигающая поверхности в плоскости, перпендикулярной направлению Солнца, накопленная за предыдущий час, в ватт-часах на квадратный метр.\n",
    "- **surface_solar_radiation_downwards** — солнечное излучение, как прямое, так и рассеянное, достигающее горизонтальной плоскости на поверхности Земли, в ватт-часах на квадратный метр.\n",
    "- **snowfall** — снегопад за предыдущий час в метрах водного эквивалента.\n",
    "- **total_precipitation** — накопленная жидкость, состоящая из дождя и снега, выпавшая на поверхность Земли за предыдущий час, в метрах."
   ]
  },
  {
   "cell_type": "code",
   "execution_count": 10,
   "id": "be31e661",
   "metadata": {
    "tags": []
   },
   "outputs": [],
   "source": [
    "# get_dataset_info(historical_weather)"
   ]
  },
  {
   "cell_type": "markdown",
   "id": "d51a22c0",
   "metadata": {
    "tags": []
   },
   "source": [
    "Исторические данные погоды. \n",
    "\n",
    "- **datetime**\n",
    "- **temperature**\n",
    "- **dewpoint**\n",
    "- **rain** — разница от условных обозначений прогноза. Дождь от крупномасштабных погодных систем за предыдущий час в миллиметрах.\n",
    "- **snowfall** — разница от условного прогноза. Снегопад за предыдущий час в сантиметрах.\n",
    "- **surface_pressure** — давление воздуха на поверхности в гектопаскалях.\n",
    "- **cloudcover_(low/mid/high/total)** — разница от прогноза. Облачность на высоте 0–3 км, 3–8, 8+ и общая.\n",
    "- **windspeed_10m** — разница от прогноза. Скорость ветра на высоте 10 метров над землей в метрах в секунду.\n",
    "- **winddirection_10m** — разница от прогноза. Направление ветра на высоте 10 метров над землей в градусах.\n",
    "- **shortwave_radiation** — разница от прогноза. Глобальное горизонтальное излучение в ватт-часах на квадратный метр.\n",
    "- **direct_solar_radiation**\n",
    "- **diffuse_radiation** — разница от прогноза. Диффузное солнечное излучение в ватт-часах на квадратный метр.\n",
    "- **(latitude/longitude)** — координаты метеостанции.\n",
    "- **data_block_id**"
   ]
  },
  {
   "cell_type": "code",
   "execution_count": 11,
   "id": "70d1259b-ef0a-4f21-abb9-3f87a3330410",
   "metadata": {
    "tags": []
   },
   "outputs": [],
   "source": [
    "# county_map"
   ]
  },
  {
   "cell_type": "markdown",
   "id": "d754d645-ff2d-4d87-85f8-30073ccc1bc5",
   "metadata": {},
   "source": [
    "Эта информация связывает id с названиями округов Эстонии."
   ]
  },
  {
   "cell_type": "markdown",
   "id": "1552d926",
   "metadata": {
    "tags": []
   },
   "source": [
    "## Удаление пропусков <a class=\"anchor\" id=\"problem-solving\"></a>"
   ]
  },
  {
   "cell_type": "markdown",
   "id": "ebe726fe-1fd0-4783-b881-dfd0303941f9",
   "metadata": {
    "tags": []
   },
   "source": [
    "Сначала удалим пропуски в таблице train. Их там примерно полтысячи."
   ]
  },
  {
   "cell_type": "code",
   "execution_count": 12,
   "id": "f7c2efb8",
   "metadata": {
    "tags": []
   },
   "outputs": [
    {
     "data": {
      "text/plain": [
       "county                0\n",
       "is_business           0\n",
       "product_type          0\n",
       "target                0\n",
       "is_consumption        0\n",
       "datetime              0\n",
       "data_block_id         0\n",
       "row_id                0\n",
       "prediction_unit_id    0\n",
       "dtype: int64"
      ]
     },
     "execution_count": 12,
     "metadata": {},
     "output_type": "execute_result"
    }
   ],
   "source": [
    "train = train.dropna(subset='target')\n",
    "train.isna().sum()"
   ]
  },
  {
   "cell_type": "code",
   "execution_count": 13,
   "id": "e1f836bc",
   "metadata": {
    "tags": []
   },
   "outputs": [],
   "source": [
    "# то же самое для предсказанной погоды\n",
    "# forecast_weather = forecast_weather.dropna(subset='surface_solar_radiation_downwards')\n",
    "# forecast_weather.isna().sum()"
   ]
  },
  {
   "cell_type": "markdown",
   "id": "48c2e031-7964-415b-a4f9-45ac57631955",
   "metadata": {
    "tags": []
   },
   "source": [
    "## Изменение типов данных"
   ]
  },
  {
   "cell_type": "markdown",
   "id": "aee599d8-7725-43a1-857a-c94844343bd5",
   "metadata": {},
   "source": [
    "Изменим даты в датасетах на тип `datetime`."
   ]
  },
  {
   "cell_type": "code",
   "execution_count": 14,
   "id": "7f34e983-968b-44ac-900f-9124fa290c87",
   "metadata": {
    "tags": []
   },
   "outputs": [],
   "source": [
    "def change_datetime_type(df: pd.DataFrame, columns: List[str]) -> pd.DataFrame:\n",
    "    \"\"\"\n",
    "    Функция меняет тип указанных полей на datetime\n",
    "    :param pd.DataFrame df: Pandas-датафрейм, в котором нужно изменить поля\n",
    "    :param List[str] columns: список столбцов с датами\n",
    "    \"\"\"\n",
    "    if not columns:\n",
    "        return Exception('Список столбцов не может быть пустым / Указание столбцов таблицы обязательно')\n",
    "    for col in columns:\n",
    "        df[col] = pd.to_datetime(df[col])\n",
    "        df[col] = df[col].dt.strftime('%Y-%m-%d %H:%M:%S')\n",
    "        df[col] = pd.to_datetime(df[col])\n",
    "    return df"
   ]
  },
  {
   "cell_type": "code",
   "execution_count": 15,
   "id": "b2640214-efa4-4775-9527-2d129f676a43",
   "metadata": {
    "tags": []
   },
   "outputs": [],
   "source": [
    "clients = change_datetime_type(clients, ['date'])\n",
    "train = change_datetime_type(train, ['datetime'])\n",
    "gas_prices = change_datetime_type(gas_prices, ['forecast_date', 'origin_date'])\n",
    "electricity_prices = change_datetime_type(electricity_prices, ['forecast_date', 'origin_date'])\n",
    "# forecast_weather = change_datetime_type(forecast_weather, ['origin_datetime', 'forecast_datetime'])\n",
    "# historical_weather = change_datetime_type(historical_weather, ['datetime'])"
   ]
  },
  {
   "cell_type": "code",
   "execution_count": 16,
   "id": "6a08293f-ab90-47f7-8bba-b9343aea36a5",
   "metadata": {
    "tags": []
   },
   "outputs": [],
   "source": [
    "# переименуем столбцы для единообразия\n",
    "clients = clients.rename(columns={'date': 'datetime'})\n",
    "gas_prices = gas_prices.rename(columns={'forecast_date': 'forecast_datetime', 'origin_date': 'origin_datetime'})\n",
    "electricity_prices = electricity_prices.rename(columns={'forecast_date': 'forecast_datetime', 'origin_date': 'origin_datetime'})"
   ]
  },
  {
   "cell_type": "markdown",
   "id": "e8bfb870-9a46-489d-bc90-4e90d799133a",
   "metadata": {},
   "source": [
    "## EDA"
   ]
  },
  {
   "cell_type": "markdown",
   "id": "ac998073-bc39-4d3e-92e4-8e8252529490",
   "metadata": {},
   "source": [
    "Теперь проведем разведывательный анализ данных для более глубокого погружения в данные. Сначала проверим совпадение временных промежутков в датасетах, так как работать нам придется с временными рядами."
   ]
  },
  {
   "cell_type": "code",
   "execution_count": 17,
   "id": "95501578",
   "metadata": {
    "tags": []
   },
   "outputs": [],
   "source": [
    "# оценим, какие временные промежутки в данных заказчика\n",
    "def show_min_max_date(data: pd.Series) -> None:\n",
    "    \"\"\"\n",
    "    Функция печатает минимальную и максимальную даты для нужного поля\n",
    "    :param pd.Series data: Series-объект Pandas с датами\n",
    "    \"\"\"\n",
    "    print(f'Минимальная дата: {data.min()}')\n",
    "    print(f'Максимальная дата: {data.max()}')"
   ]
  },
  {
   "cell_type": "code",
   "execution_count": 18,
   "id": "0fafb2d0",
   "metadata": {},
   "outputs": [
    {
     "name": "stdout",
     "output_type": "stream",
     "text": [
      "Минимальная дата: 2021-09-01 00:00:00\n",
      "Максимальная дата: 2023-05-29 00:00:00\n"
     ]
    }
   ],
   "source": [
    "show_min_max_date(clients['datetime'])"
   ]
  },
  {
   "cell_type": "code",
   "execution_count": 19,
   "id": "f8520acb",
   "metadata": {},
   "outputs": [
    {
     "name": "stdout",
     "output_type": "stream",
     "text": [
      "Минимальная дата: 2021-09-01 00:00:00\n",
      "Максимальная дата: 2023-05-31 23:00:00\n"
     ]
    }
   ],
   "source": [
    "show_min_max_date(train['datetime'])"
   ]
  },
  {
   "cell_type": "code",
   "execution_count": 20,
   "id": "cdcdeab7",
   "metadata": {},
   "outputs": [
    {
     "name": "stdout",
     "output_type": "stream",
     "text": [
      "Минимальная дата: 2021-09-01 00:00:00\n",
      "Максимальная дата: 2023-05-30 00:00:00\n",
      "Минимальная дата: 2021-08-31 00:00:00\n",
      "Максимальная дата: 2023-05-29 00:00:00\n"
     ]
    }
   ],
   "source": [
    "show_min_max_date(gas_prices['forecast_datetime'])\n",
    "show_min_max_date(gas_prices['origin_datetime'])"
   ]
  },
  {
   "cell_type": "code",
   "execution_count": 21,
   "id": "8aee2246",
   "metadata": {},
   "outputs": [
    {
     "name": "stdout",
     "output_type": "stream",
     "text": [
      "Минимальная дата: 2021-09-01 00:00:00\n",
      "Максимальная дата: 2023-05-30 23:00:00\n",
      "Минимальная дата: 2021-08-31 00:00:00\n",
      "Максимальная дата: 2023-05-29 23:00:00\n"
     ]
    }
   ],
   "source": [
    "show_min_max_date(electricity_prices['forecast_datetime'])\n",
    "show_min_max_date(electricity_prices['origin_datetime'])"
   ]
  },
  {
   "cell_type": "code",
   "execution_count": 22,
   "id": "14c1c3c2",
   "metadata": {},
   "outputs": [],
   "source": [
    "# show_min_max_date(forecast_weather['origin_datetime'])\n",
    "# show_min_max_date(forecast_weather['forecast_datetime'])"
   ]
  },
  {
   "cell_type": "code",
   "execution_count": 23,
   "id": "c5e1d684-fc4d-4e99-a17f-32ddd7254bed",
   "metadata": {
    "tags": []
   },
   "outputs": [],
   "source": [
    "# show_min_max_date(historical_weather['datetime'])"
   ]
  },
  {
   "cell_type": "markdown",
   "id": "41cd8ac1-cc08-4529-98e4-aa5a180c39ab",
   "metadata": {},
   "source": [
    "Видим, что периоды даны одинаковые, так что с этим проблем возникнуть не должно. Соединим таблицы для дальнейшего анализа."
   ]
  },
  {
   "cell_type": "code",
   "execution_count": 24,
   "id": "4ac0259a-a983-4f68-9048-52cf28f96ba1",
   "metadata": {
    "tags": []
   },
   "outputs": [],
   "source": [
    "# это всё закомментриуем, чтобы при перезапуске ячеек заново не делать\n",
    "\n",
    "# merge_data = train.merge(gas_prices[['lowest_price_per_mwh', 'highest_price_per_mwh', 'data_block_id']], how='left', on=['data_block_id'])\n",
    "# merge_data = merge_data.merge(electricity_prices[['euros_per_mwh', 'forecast_datetime']], how='left', left_on=['datetime'], right_on=['forecast_datetime'])\n",
    "# merge_data.to_pickle(os.path.join(basedir, 'data/data.pkl'))"
   ]
  },
  {
   "cell_type": "code",
   "execution_count": 25,
   "id": "b35a82c8-519e-40cc-8b9c-3a77fd0c3da0",
   "metadata": {},
   "outputs": [],
   "source": [
    "# загрузим объединенные данные\n",
    "final_data = pd.read_pickle(os.path.join(basedir, 'data/data.pkl'))"
   ]
  },
  {
   "cell_type": "markdown",
   "id": "714ae7e9-af1a-4a2e-8ff4-ce9e839fb206",
   "metadata": {},
   "source": [
    "Посмотрим теперь на таблицу, что будет для нас основной в дальнейшей работе."
   ]
  },
  {
   "cell_type": "code",
   "execution_count": 26,
   "id": "5fbe0e5e-f6ec-4c52-ad5c-a311ccce81f0",
   "metadata": {},
   "outputs": [
    {
     "data": {
      "text/html": [
       "<div>\n",
       "<style scoped>\n",
       "    .dataframe tbody tr th:only-of-type {\n",
       "        vertical-align: middle;\n",
       "    }\n",
       "\n",
       "    .dataframe tbody tr th {\n",
       "        vertical-align: top;\n",
       "    }\n",
       "\n",
       "    .dataframe thead th {\n",
       "        text-align: right;\n",
       "    }\n",
       "</style>\n",
       "<table border=\"1\" class=\"dataframe\">\n",
       "  <thead>\n",
       "    <tr style=\"text-align: right;\">\n",
       "      <th></th>\n",
       "      <th>county</th>\n",
       "      <th>is_business</th>\n",
       "      <th>product_type</th>\n",
       "      <th>target</th>\n",
       "      <th>is_consumption</th>\n",
       "      <th>datetime</th>\n",
       "      <th>data_block_id</th>\n",
       "      <th>row_id</th>\n",
       "      <th>prediction_unit_id</th>\n",
       "      <th>lowest_price_per_mwh</th>\n",
       "      <th>highest_price_per_mwh</th>\n",
       "      <th>euros_per_mwh</th>\n",
       "      <th>forecast_datetime</th>\n",
       "    </tr>\n",
       "  </thead>\n",
       "  <tbody>\n",
       "    <tr>\n",
       "      <th>0</th>\n",
       "      <td>0</td>\n",
       "      <td>0</td>\n",
       "      <td>1</td>\n",
       "      <td>0.713</td>\n",
       "      <td>0</td>\n",
       "      <td>2021-09-01</td>\n",
       "      <td>0</td>\n",
       "      <td>0</td>\n",
       "      <td>0</td>\n",
       "      <td>NaN</td>\n",
       "      <td>NaN</td>\n",
       "      <td>92.51</td>\n",
       "      <td>2021-09-01</td>\n",
       "    </tr>\n",
       "    <tr>\n",
       "      <th>1</th>\n",
       "      <td>0</td>\n",
       "      <td>0</td>\n",
       "      <td>1</td>\n",
       "      <td>96.590</td>\n",
       "      <td>1</td>\n",
       "      <td>2021-09-01</td>\n",
       "      <td>0</td>\n",
       "      <td>1</td>\n",
       "      <td>0</td>\n",
       "      <td>NaN</td>\n",
       "      <td>NaN</td>\n",
       "      <td>92.51</td>\n",
       "      <td>2021-09-01</td>\n",
       "    </tr>\n",
       "    <tr>\n",
       "      <th>2</th>\n",
       "      <td>0</td>\n",
       "      <td>0</td>\n",
       "      <td>2</td>\n",
       "      <td>0.000</td>\n",
       "      <td>0</td>\n",
       "      <td>2021-09-01</td>\n",
       "      <td>0</td>\n",
       "      <td>2</td>\n",
       "      <td>1</td>\n",
       "      <td>NaN</td>\n",
       "      <td>NaN</td>\n",
       "      <td>92.51</td>\n",
       "      <td>2021-09-01</td>\n",
       "    </tr>\n",
       "    <tr>\n",
       "      <th>3</th>\n",
       "      <td>0</td>\n",
       "      <td>0</td>\n",
       "      <td>2</td>\n",
       "      <td>17.314</td>\n",
       "      <td>1</td>\n",
       "      <td>2021-09-01</td>\n",
       "      <td>0</td>\n",
       "      <td>3</td>\n",
       "      <td>1</td>\n",
       "      <td>NaN</td>\n",
       "      <td>NaN</td>\n",
       "      <td>92.51</td>\n",
       "      <td>2021-09-01</td>\n",
       "    </tr>\n",
       "    <tr>\n",
       "      <th>4</th>\n",
       "      <td>0</td>\n",
       "      <td>0</td>\n",
       "      <td>3</td>\n",
       "      <td>2.904</td>\n",
       "      <td>0</td>\n",
       "      <td>2021-09-01</td>\n",
       "      <td>0</td>\n",
       "      <td>4</td>\n",
       "      <td>2</td>\n",
       "      <td>NaN</td>\n",
       "      <td>NaN</td>\n",
       "      <td>92.51</td>\n",
       "      <td>2021-09-01</td>\n",
       "    </tr>\n",
       "  </tbody>\n",
       "</table>\n",
       "</div>"
      ],
      "text/plain": [
       "   county  is_business  product_type  target  is_consumption   datetime  \\\n",
       "0       0            0             1   0.713               0 2021-09-01   \n",
       "1       0            0             1  96.590               1 2021-09-01   \n",
       "2       0            0             2   0.000               0 2021-09-01   \n",
       "3       0            0             2  17.314               1 2021-09-01   \n",
       "4       0            0             3   2.904               0 2021-09-01   \n",
       "\n",
       "   data_block_id  row_id  prediction_unit_id  lowest_price_per_mwh  \\\n",
       "0              0       0                   0                   NaN   \n",
       "1              0       1                   0                   NaN   \n",
       "2              0       2                   1                   NaN   \n",
       "3              0       3                   1                   NaN   \n",
       "4              0       4                   2                   NaN   \n",
       "\n",
       "   highest_price_per_mwh  euros_per_mwh forecast_datetime  \n",
       "0                    NaN          92.51        2021-09-01  \n",
       "1                    NaN          92.51        2021-09-01  \n",
       "2                    NaN          92.51        2021-09-01  \n",
       "3                    NaN          92.51        2021-09-01  \n",
       "4                    NaN          92.51        2021-09-01  "
      ]
     },
     "metadata": {},
     "output_type": "display_data"
    },
    {
     "name": "stdout",
     "output_type": "stream",
     "text": [
      "\n",
      "\n",
      "<class 'pandas.core.frame.DataFrame'>\n",
      "Int64Index: 2017824 entries, 0 to 2017823\n",
      "Data columns (total 13 columns):\n",
      " #   Column                 Dtype         \n",
      "---  ------                 -----         \n",
      " 0   county                 int64         \n",
      " 1   is_business            int64         \n",
      " 2   product_type           int64         \n",
      " 3   target                 float64       \n",
      " 4   is_consumption         int64         \n",
      " 5   datetime               datetime64[ns]\n",
      " 6   data_block_id          int64         \n",
      " 7   row_id                 int64         \n",
      " 8   prediction_unit_id     int64         \n",
      " 9   lowest_price_per_mwh   float64       \n",
      " 10  highest_price_per_mwh  float64       \n",
      " 11  euros_per_mwh          float64       \n",
      " 12  forecast_datetime      datetime64[ns]\n",
      "dtypes: datetime64[ns](2), float64(4), int64(7)\n",
      "memory usage: 215.5 MB\n",
      "None\n",
      "\n",
      "\n"
     ]
    },
    {
     "data": {
      "text/html": [
       "<div>\n",
       "<style scoped>\n",
       "    .dataframe tbody tr th:only-of-type {\n",
       "        vertical-align: middle;\n",
       "    }\n",
       "\n",
       "    .dataframe tbody tr th {\n",
       "        vertical-align: top;\n",
       "    }\n",
       "\n",
       "    .dataframe thead th {\n",
       "        text-align: right;\n",
       "    }\n",
       "</style>\n",
       "<table border=\"1\" class=\"dataframe\">\n",
       "  <thead>\n",
       "    <tr style=\"text-align: right;\">\n",
       "      <th></th>\n",
       "      <th>county</th>\n",
       "      <th>is_business</th>\n",
       "      <th>product_type</th>\n",
       "      <th>target</th>\n",
       "      <th>is_consumption</th>\n",
       "      <th>data_block_id</th>\n",
       "      <th>row_id</th>\n",
       "      <th>prediction_unit_id</th>\n",
       "      <th>lowest_price_per_mwh</th>\n",
       "      <th>highest_price_per_mwh</th>\n",
       "      <th>euros_per_mwh</th>\n",
       "    </tr>\n",
       "  </thead>\n",
       "  <tbody>\n",
       "    <tr>\n",
       "      <th>count</th>\n",
       "      <td>2.017824e+06</td>\n",
       "      <td>2.017824e+06</td>\n",
       "      <td>2.017824e+06</td>\n",
       "      <td>2.017824e+06</td>\n",
       "      <td>2017824.0</td>\n",
       "      <td>2.017824e+06</td>\n",
       "      <td>2.017824e+06</td>\n",
       "      <td>2.017824e+06</td>\n",
       "      <td>2.014896e+06</td>\n",
       "      <td>2.014896e+06</td>\n",
       "      <td>2.014438e+06</td>\n",
       "    </tr>\n",
       "    <tr>\n",
       "      <th>mean</th>\n",
       "      <td>7.297039e+00</td>\n",
       "      <td>5.368268e-01</td>\n",
       "      <td>1.898927e+00</td>\n",
       "      <td>2.748556e+02</td>\n",
       "      <td>0.5</td>\n",
       "      <td>3.218754e+02</td>\n",
       "      <td>1.009178e+06</td>\n",
       "      <td>3.304540e+01</td>\n",
       "      <td>9.546883e+01</td>\n",
       "      <td>1.083110e+02</td>\n",
       "      <td>1.574594e+02</td>\n",
       "    </tr>\n",
       "    <tr>\n",
       "      <th>std</th>\n",
       "      <td>4.780994e+00</td>\n",
       "      <td>4.986421e-01</td>\n",
       "      <td>1.081766e+00</td>\n",
       "      <td>9.095024e+02</td>\n",
       "      <td>0.5</td>\n",
       "      <td>1.826310e+02</td>\n",
       "      <td>5.826378e+05</td>\n",
       "      <td>1.959062e+01</td>\n",
       "      <td>4.758257e+01</td>\n",
       "      <td>5.476264e+01</td>\n",
       "      <td>1.213383e+02</td>\n",
       "    </tr>\n",
       "    <tr>\n",
       "      <th>min</th>\n",
       "      <td>0.000000e+00</td>\n",
       "      <td>0.000000e+00</td>\n",
       "      <td>0.000000e+00</td>\n",
       "      <td>0.000000e+00</td>\n",
       "      <td>0.0</td>\n",
       "      <td>0.000000e+00</td>\n",
       "      <td>0.000000e+00</td>\n",
       "      <td>0.000000e+00</td>\n",
       "      <td>2.810000e+01</td>\n",
       "      <td>3.400000e+01</td>\n",
       "      <td>-1.006000e+01</td>\n",
       "    </tr>\n",
       "    <tr>\n",
       "      <th>25%</th>\n",
       "      <td>3.000000e+00</td>\n",
       "      <td>0.000000e+00</td>\n",
       "      <td>1.000000e+00</td>\n",
       "      <td>3.780000e-01</td>\n",
       "      <td>0.0</td>\n",
       "      <td>1.660000e+02</td>\n",
       "      <td>5.045818e+05</td>\n",
       "      <td>1.600000e+01</td>\n",
       "      <td>6.000000e+01</td>\n",
       "      <td>6.767000e+01</td>\n",
       "      <td>8.529000e+01</td>\n",
       "    </tr>\n",
       "    <tr>\n",
       "      <th>50%</th>\n",
       "      <td>7.000000e+00</td>\n",
       "      <td>1.000000e+00</td>\n",
       "      <td>2.000000e+00</td>\n",
       "      <td>3.113300e+01</td>\n",
       "      <td>0.5</td>\n",
       "      <td>3.230000e+02</td>\n",
       "      <td>1.009172e+06</td>\n",
       "      <td>3.300000e+01</td>\n",
       "      <td>8.590000e+01</td>\n",
       "      <td>9.400000e+01</td>\n",
       "      <td>1.287400e+02</td>\n",
       "    </tr>\n",
       "    <tr>\n",
       "      <th>75%</th>\n",
       "      <td>1.100000e+01</td>\n",
       "      <td>1.000000e+00</td>\n",
       "      <td>3.000000e+00</td>\n",
       "      <td>1.802062e+02</td>\n",
       "      <td>1.0</td>\n",
       "      <td>4.790000e+02</td>\n",
       "      <td>1.513763e+06</td>\n",
       "      <td>5.000000e+01</td>\n",
       "      <td>1.097400e+02</td>\n",
       "      <td>1.330000e+02</td>\n",
       "      <td>1.999700e+02</td>\n",
       "    </tr>\n",
       "    <tr>\n",
       "      <th>max</th>\n",
       "      <td>1.500000e+01</td>\n",
       "      <td>1.000000e+00</td>\n",
       "      <td>3.000000e+00</td>\n",
       "      <td>1.548027e+04</td>\n",
       "      <td>1.0</td>\n",
       "      <td>6.370000e+02</td>\n",
       "      <td>2.018351e+06</td>\n",
       "      <td>6.800000e+01</td>\n",
       "      <td>2.500000e+02</td>\n",
       "      <td>3.050000e+02</td>\n",
       "      <td>4.000000e+03</td>\n",
       "    </tr>\n",
       "  </tbody>\n",
       "</table>\n",
       "</div>"
      ],
      "text/plain": [
       "             county   is_business  product_type        target  is_consumption  \\\n",
       "count  2.017824e+06  2.017824e+06  2.017824e+06  2.017824e+06       2017824.0   \n",
       "mean   7.297039e+00  5.368268e-01  1.898927e+00  2.748556e+02             0.5   \n",
       "std    4.780994e+00  4.986421e-01  1.081766e+00  9.095024e+02             0.5   \n",
       "min    0.000000e+00  0.000000e+00  0.000000e+00  0.000000e+00             0.0   \n",
       "25%    3.000000e+00  0.000000e+00  1.000000e+00  3.780000e-01             0.0   \n",
       "50%    7.000000e+00  1.000000e+00  2.000000e+00  3.113300e+01             0.5   \n",
       "75%    1.100000e+01  1.000000e+00  3.000000e+00  1.802062e+02             1.0   \n",
       "max    1.500000e+01  1.000000e+00  3.000000e+00  1.548027e+04             1.0   \n",
       "\n",
       "       data_block_id        row_id  prediction_unit_id  lowest_price_per_mwh  \\\n",
       "count   2.017824e+06  2.017824e+06        2.017824e+06          2.014896e+06   \n",
       "mean    3.218754e+02  1.009178e+06        3.304540e+01          9.546883e+01   \n",
       "std     1.826310e+02  5.826378e+05        1.959062e+01          4.758257e+01   \n",
       "min     0.000000e+00  0.000000e+00        0.000000e+00          2.810000e+01   \n",
       "25%     1.660000e+02  5.045818e+05        1.600000e+01          6.000000e+01   \n",
       "50%     3.230000e+02  1.009172e+06        3.300000e+01          8.590000e+01   \n",
       "75%     4.790000e+02  1.513763e+06        5.000000e+01          1.097400e+02   \n",
       "max     6.370000e+02  2.018351e+06        6.800000e+01          2.500000e+02   \n",
       "\n",
       "       highest_price_per_mwh  euros_per_mwh  \n",
       "count           2.014896e+06   2.014438e+06  \n",
       "mean            1.083110e+02   1.574594e+02  \n",
       "std             5.476264e+01   1.213383e+02  \n",
       "min             3.400000e+01  -1.006000e+01  \n",
       "25%             6.767000e+01   8.529000e+01  \n",
       "50%             9.400000e+01   1.287400e+02  \n",
       "75%             1.330000e+02   1.999700e+02  \n",
       "max             3.050000e+02   4.000000e+03  "
      ]
     },
     "metadata": {},
     "output_type": "display_data"
    },
    {
     "name": "stdout",
     "output_type": "stream",
     "text": [
      "\n",
      "\n",
      "county                      0\n",
      "is_business                 0\n",
      "product_type                0\n",
      "target                      0\n",
      "is_consumption              0\n",
      "datetime                    0\n",
      "data_block_id               0\n",
      "row_id                      0\n",
      "prediction_unit_id          0\n",
      "lowest_price_per_mwh     2928\n",
      "highest_price_per_mwh    2928\n",
      "euros_per_mwh            3386\n",
      "forecast_datetime        3386\n",
      "dtype: int64\n",
      "\n",
      "\n",
      "Дубликаты: 0\n",
      "it`s over\n"
     ]
    }
   ],
   "source": [
    "get_dataset_info(final_data)"
   ]
  },
  {
   "cell_type": "markdown",
   "id": "d70b32ac-d608-4c60-a3fe-1576d715ec6b",
   "metadata": {
    "tags": []
   },
   "source": [
    "У нас появилось около 3000 пропусков после присоединения. Учитывая, что объектов в датасете больше 2 миллионов, от этих пропусков можно просто избавиться."
   ]
  },
  {
   "cell_type": "code",
   "execution_count": 27,
   "id": "b4d169e8-f0bf-49a1-ab6c-d428fb0cea59",
   "metadata": {
    "tags": []
   },
   "outputs": [
    {
     "data": {
      "text/plain": [
       "0"
      ]
     },
     "execution_count": 27,
     "metadata": {},
     "output_type": "execute_result"
    }
   ],
   "source": [
    "# удалим пропуски и выведем общее их количество\n",
    "final_data = final_data.dropna(subset=['lowest_price_per_mwh', 'highest_price_per_mwh', 'euros_per_mwh', 'forecast_datetime'])\n",
    "final_data.isna().sum().sum()"
   ]
  },
  {
   "cell_type": "code",
   "execution_count": 28,
   "id": "946d6e15-6ea1-4151-8d71-32ed08e7c0f4",
   "metadata": {
    "tags": []
   },
   "outputs": [],
   "source": [
    "# удалим столбцы, которые не понадобятся при обучении моделей\n",
    "final_data = final_data.drop(['data_block_id', 'row_id', 'prediction_unit_id', 'forecast_datetime'], axis=1)"
   ]
  },
  {
   "cell_type": "code",
   "execution_count": 29,
   "id": "0c1661b0-a5eb-456d-bece-5879a439f181",
   "metadata": {
    "tags": []
   },
   "outputs": [
    {
     "data": {
      "text/html": [
       "<div>\n",
       "<style scoped>\n",
       "    .dataframe tbody tr th:only-of-type {\n",
       "        vertical-align: middle;\n",
       "    }\n",
       "\n",
       "    .dataframe tbody tr th {\n",
       "        vertical-align: top;\n",
       "    }\n",
       "\n",
       "    .dataframe thead th {\n",
       "        text-align: right;\n",
       "    }\n",
       "</style>\n",
       "<table border=\"1\" class=\"dataframe\">\n",
       "  <thead>\n",
       "    <tr style=\"text-align: right;\">\n",
       "      <th></th>\n",
       "      <th>is_business</th>\n",
       "    </tr>\n",
       "  </thead>\n",
       "  <tbody>\n",
       "    <tr>\n",
       "      <th>1</th>\n",
       "      <td>1079862</td>\n",
       "    </tr>\n",
       "    <tr>\n",
       "      <th>0</th>\n",
       "      <td>931648</td>\n",
       "    </tr>\n",
       "  </tbody>\n",
       "</table>\n",
       "</div>"
      ],
      "text/plain": [
       "   is_business\n",
       "1      1079862\n",
       "0       931648"
      ]
     },
     "metadata": {},
     "output_type": "display_data"
    },
    {
     "data": {
      "text/plain": [
       "<AxesSubplot: >"
      ]
     },
     "metadata": {},
     "output_type": "display_data"
    },
    {
     "data": {
      "image/png": "[encoded data removed]",
      "text/plain": [
       "<Figure size 640x480 with 1 Axes>"
      ]
     },
     "metadata": {},
     "output_type": "display_data"
    }
   ],
   "source": [
    "# взглянем на распределение просьюмеров b2b И b2c\n",
    "is_business = pd.DataFrame(final_data['is_business'].value_counts())\n",
    "display(is_business)\n",
    "display(sns.barplot(data=is_business.T))"
   ]
  },
  {
   "cell_type": "markdown",
   "id": "80811be0-672a-4e61-8037-a68298ae1317",
   "metadata": {
    "tags": []
   },
   "source": [
    "Как видим, бизнеса чуть больше, чем обычных потребителей."
   ]
  },
  {
   "cell_type": "code",
   "execution_count": 30,
   "id": "cf3e39fa-7fd3-408b-be74-12de02bc4441",
   "metadata": {},
   "outputs": [
    {
     "data": {
      "text/plain": [
       "3    915480\n",
       "1    779020\n",
       "0    169996\n",
       "2    147014\n",
       "Name: product_type, dtype: int64"
      ]
     },
     "execution_count": 30,
     "metadata": {},
     "output_type": "execute_result"
    }
   ],
   "source": [
    "# посмотрим то же на тип продукта\n",
    "final_data['product_type'].value_counts()"
   ]
  },
  {
   "cell_type": "markdown",
   "id": "79393508-9f06-4a6f-8d47-6c42024fc4c6",
   "metadata": {},
   "source": [
    "Как видим большинство контрактов спотовые, вторые по используемости фиксированные тарифы, а дальше комбинированный и общий сервис. Посмотрим в разрезе типов клиентов."
   ]
  },
  {
   "cell_type": "code",
   "execution_count": 31,
   "id": "8406c829-0e17-4c28-8d7f-8d19f77112c9",
   "metadata": {},
   "outputs": [
    {
     "data": {
      "text/html": [
       "<div>\n",
       "<style scoped>\n",
       "    .dataframe tbody tr th:only-of-type {\n",
       "        vertical-align: middle;\n",
       "    }\n",
       "\n",
       "    .dataframe tbody tr th {\n",
       "        vertical-align: top;\n",
       "    }\n",
       "\n",
       "    .dataframe thead th {\n",
       "        text-align: right;\n",
       "    }\n",
       "</style>\n",
       "<table border=\"1\" class=\"dataframe\">\n",
       "  <thead>\n",
       "    <tr style=\"text-align: right;\">\n",
       "      <th>is_business</th>\n",
       "      <th>0</th>\n",
       "      <th>1</th>\n",
       "    </tr>\n",
       "    <tr>\n",
       "      <th>product_type</th>\n",
       "      <th></th>\n",
       "      <th></th>\n",
       "    </tr>\n",
       "  </thead>\n",
       "  <tbody>\n",
       "    <tr>\n",
       "      <th>0</th>\n",
       "      <td>NaN</td>\n",
       "      <td>169996.0</td>\n",
       "    </tr>\n",
       "    <tr>\n",
       "      <th>1</th>\n",
       "      <td>425832.0</td>\n",
       "      <td>353188.0</td>\n",
       "    </tr>\n",
       "    <tr>\n",
       "      <th>2</th>\n",
       "      <td>78592.0</td>\n",
       "      <td>68422.0</td>\n",
       "    </tr>\n",
       "    <tr>\n",
       "      <th>3</th>\n",
       "      <td>427224.0</td>\n",
       "      <td>488256.0</td>\n",
       "    </tr>\n",
       "  </tbody>\n",
       "</table>\n",
       "</div>"
      ],
      "text/plain": [
       "is_business          0         1\n",
       "product_type                    \n",
       "0                  NaN  169996.0\n",
       "1             425832.0  353188.0\n",
       "2              78592.0   68422.0\n",
       "3             427224.0  488256.0"
      ]
     },
     "execution_count": 31,
     "metadata": {},
     "output_type": "execute_result"
    }
   ],
   "source": [
    "final_data.pivot_table(index='product_type', columns='is_business', values='target', aggfunc='count')"
   ]
  },
  {
   "cell_type": "markdown",
   "id": "13adf175-104d-4562-9d62-5e1654e83aec",
   "metadata": {},
   "source": [
    "Можно обратить внимание, что комбинированным типов бользуется только бизнес, а для остальных более менее поровну. Давайте также взглянем, как много тех, потребляет электроэнергию для производства и по другим нуждам."
   ]
  },
  {
   "cell_type": "code",
   "execution_count": 32,
   "id": "6da078eb-a992-447a-b9c4-0eb63b6a8408",
   "metadata": {},
   "outputs": [
    {
     "data": {
      "text/plain": [
       "0    1005755\n",
       "1    1005755\n",
       "Name: is_consumption, dtype: int64"
      ]
     },
     "execution_count": 32,
     "metadata": {},
     "output_type": "execute_result"
    }
   ],
   "source": [
    "final_data['is_consumption'].value_counts()"
   ]
  },
  {
   "cell_type": "markdown",
   "id": "6a52a2a1-c3c9-492e-8401-47732286f5c6",
   "metadata": {},
   "source": [
    "Удивительно, но разницы нет нет вовсе, обеих групп ровно поровну."
   ]
  },
  {
   "cell_type": "markdown",
   "id": "327413cb-9929-4f4c-b3af-8c70954b44b1",
   "metadata": {},
   "source": [
    "Изучим временные ряды по разным годам, а потребление просуммируем. Потом ресемплируем по дням или неделям, после чего посчитаем среднее с графиком."
   ]
  },
  {
   "cell_type": "code",
   "execution_count": 33,
   "id": "3104de45-b99a-4fc1-8c50-7d559158d56a",
   "metadata": {},
   "outputs": [
    {
     "data": {
      "text/html": [
       "<div>\n",
       "<style scoped>\n",
       "    .dataframe tbody tr th:only-of-type {\n",
       "        vertical-align: middle;\n",
       "    }\n",
       "\n",
       "    .dataframe tbody tr th {\n",
       "        vertical-align: top;\n",
       "    }\n",
       "\n",
       "    .dataframe thead th {\n",
       "        text-align: right;\n",
       "    }\n",
       "</style>\n",
       "<table border=\"1\" class=\"dataframe\">\n",
       "  <thead>\n",
       "    <tr style=\"text-align: right;\">\n",
       "      <th></th>\n",
       "      <th>target</th>\n",
       "    </tr>\n",
       "    <tr>\n",
       "      <th>datetime</th>\n",
       "      <th></th>\n",
       "    </tr>\n",
       "  </thead>\n",
       "  <tbody>\n",
       "    <tr>\n",
       "      <th>2021-09-02 00:00:00</th>\n",
       "      <td>18944.316</td>\n",
       "    </tr>\n",
       "    <tr>\n",
       "      <th>2021-09-02 01:00:00</th>\n",
       "      <td>18293.199</td>\n",
       "    </tr>\n",
       "    <tr>\n",
       "      <th>2021-09-02 02:00:00</th>\n",
       "      <td>18336.394</td>\n",
       "    </tr>\n",
       "    <tr>\n",
       "      <th>2021-09-02 03:00:00</th>\n",
       "      <td>18030.154</td>\n",
       "    </tr>\n",
       "    <tr>\n",
       "      <th>2021-09-02 04:00:00</th>\n",
       "      <td>18242.519</td>\n",
       "    </tr>\n",
       "  </tbody>\n",
       "</table>\n",
       "</div>"
      ],
      "text/plain": [
       "                        target\n",
       "datetime                      \n",
       "2021-09-02 00:00:00  18944.316\n",
       "2021-09-02 01:00:00  18293.199\n",
       "2021-09-02 02:00:00  18336.394\n",
       "2021-09-02 03:00:00  18030.154\n",
       "2021-09-02 04:00:00  18242.519"
      ]
     },
     "execution_count": 33,
     "metadata": {},
     "output_type": "execute_result"
    }
   ],
   "source": [
    "date_and_target = pd.DataFrame(final_data[['datetime', 'target']].groupby('datetime')['target'].sum())\n",
    "date_and_target.head()"
   ]
  },
  {
   "cell_type": "code",
   "execution_count": 34,
   "id": "bc3cee7b-0c96-4a59-b30a-14e3f708cdea",
   "metadata": {},
   "outputs": [
    {
     "data": {
      "image/png": "[encoded data removed]",
      "text/plain": [
       "<Figure size 640x480 with 1 Axes>"
      ]
     },
     "metadata": {},
     "output_type": "display_data"
    }
   ],
   "source": [
    "# сдедаем копию датафрейма\n",
    "date_and_target_re = date_and_target.copy()\n",
    "\n",
    "# изменим тип индекса\n",
    "date_and_target_re.index = pd.to_datetime(date_and_target_re.index)\n",
    "\n",
    "# ресеплируем по дням и выведем графиком\n",
    "sns.lineplot(date_and_target_re.resample('1D').mean());"
   ]
  },
  {
   "cell_type": "code",
   "execution_count": 35,
   "id": "d50ee7ee-c405-4c0c-a51c-2b5ec99c4ce7",
   "metadata": {},
   "outputs": [
    {
     "data": {
      "image/png": "[encoded data removed]",
      "text/plain": [
       "<Figure size 640x480 with 1 Axes>"
      ]
     },
     "metadata": {},
     "output_type": "display_data"
    }
   ],
   "source": [
    "# сдедаем то же для месяцев\n",
    "sns.lineplot(date_and_target_re.resample('1M').mean());"
   ]
  },
  {
   "cell_type": "markdown",
   "id": "b78ca517-6ac3-4663-a97a-eee700185b29",
   "metadata": {},
   "source": [
    "Видим тренд постоянного увеличения потребления электроэнергии. Взглянем в разрезе одного года."
   ]
  },
  {
   "cell_type": "code",
   "execution_count": 36,
   "id": "7de7dff8-e15f-4372-87df-96bb5836b997",
   "metadata": {},
   "outputs": [
    {
     "data": {
      "text/plain": [
       "<AxesSubplot: xlabel='datetime'>"
      ]
     },
     "metadata": {},
     "output_type": "display_data"
    },
    {
     "data": {
      "image/png": "[encoded data removed]",
      "text/plain": [
       "<Figure size 640x480 with 1 Axes>"
      ]
     },
     "metadata": {},
     "output_type": "display_data"
    }
   ],
   "source": [
    "# для месяцев 2021 года\n",
    "display(sns.lineplot(date_and_target_re.query('index < \"2022-01-01\"').resample('1M').mean()))"
   ]
  },
  {
   "cell_type": "code",
   "execution_count": 37,
   "id": "c4649ddf-4633-498e-9055-de1747eaff87",
   "metadata": {},
   "outputs": [
    {
     "data": {
      "text/plain": [
       "<AxesSubplot: xlabel='datetime'>"
      ]
     },
     "metadata": {},
     "output_type": "display_data"
    },
    {
     "data": {
      "image/png": "[encoded data removed]",
      "text/plain": [
       "<Figure size 640x480 with 1 Axes>"
      ]
     },
     "metadata": {},
     "output_type": "display_data"
    }
   ],
   "source": [
    "# для месяцев 2022 года\n",
    "display(sns.lineplot(date_and_target_re.query('index > \"2021-12-31\" and index < \"2023-01-01\"').resample('1M').mean()));"
   ]
  },
  {
   "cell_type": "code",
   "execution_count": 38,
   "id": "a179358c-5b2a-414c-9431-a4bf27bb0d0b",
   "metadata": {},
   "outputs": [
    {
     "data": {
      "text/plain": [
       "<AxesSubplot: xlabel='datetime'>"
      ]
     },
     "metadata": {},
     "output_type": "display_data"
    },
    {
     "data": {
      "image/png": "[encoded data removed]",
      "text/plain": [
       "<Figure size 640x480 with 1 Axes>"
      ]
     },
     "metadata": {},
     "output_type": "display_data"
    }
   ],
   "source": [
    "# для месяцев 2023 года\n",
    "display(sns.lineplot(date_and_target_re.query('index > \"2022-12-31\"').resample('1M').mean()));"
   ]
  },
  {
   "cell_type": "markdown",
   "id": "8e6fad6a-133d-4bfc-8178-8f5d49d9562e",
   "metadata": {},
   "source": [
    "Графики получаются похожими, но стоит учитывать, что 2021 и 2023 год взяты не полностью. Попробуем оценить сезонность и тренды при помощи статистической модели."
   ]
  },
  {
   "cell_type": "code",
   "execution_count": 39,
   "id": "f6d0eb70-7814-49c0-a28f-705a85417810",
   "metadata": {},
   "outputs": [
    {
     "data": {
      "image/png": "[encoded data removed]",
      "text/plain": [
       "<Figure size 600x800 with 3 Axes>"
      ]
     },
     "metadata": {},
     "output_type": "display_data"
    }
   ],
   "source": [
    "date_and_target_re_1w = date_and_target_re.resample('1W').sum()\n",
    "date_and_target_re_1w.sort_index(inplace=True)\n",
    "decomposed = seasonal_decompose(date_and_target_re_1w, period=3)\n",
    "\n",
    "plt.figure(figsize=(6, 8))\n",
    "plt.subplot(311)\n",
    "# Чтобы график корректно отобразился, указываем его\n",
    "# оси ax, равными plt.gca() (англ. get current axis,\n",
    "# получить текущие оси)\n",
    "decomposed.trend.plot(ax=plt.gca())\n",
    "plt.title('Trend')\n",
    "plt.subplot(312)\n",
    "decomposed.seasonal.plot(ax=plt.gca())\n",
    "plt.title('Seasonality')\n",
    "plt.subplot(313)\n",
    "decomposed.resid.plot(ax=plt.gca())\n",
    "plt.title('Residuals')\n",
    "plt.tight_layout()"
   ]
  },
  {
   "cell_type": "markdown",
   "id": "ecbbe22b-8009-45ee-9714-20d52dfec120",
   "metadata": {},
   "source": [
    "Четко наблюдаемого тренда нет, а сезонность выглядит как стационарный процесс с четкой повторяемостью. Оценим также при помощи скользязещего среднего и стандартного отклонения."
   ]
  },
  {
   "cell_type": "code",
   "execution_count": 40,
   "id": "c36b9250-34a5-4933-b40f-90aef349d6ed",
   "metadata": {},
   "outputs": [
    {
     "data": {
      "image/png": "[encoded data removed]",
      "text/plain": [
       "<Figure size 640x480 with 1 Axes>"
      ]
     },
     "metadata": {},
     "output_type": "display_data"
    }
   ],
   "source": [
    "date_and_target_re_1w['mean'] = date_and_target_re_1w['target'].rolling(10).mean()\n",
    "date_and_target_re_1w['std'] = date_and_target_re_1w['target'].rolling(10).std()\n",
    "date_and_target_re_1w.plot();"
   ]
  },
  {
   "cell_type": "markdown",
   "id": "b21a34a9-3d50-42dd-bef8-159d5de00af4",
   "metadata": {
    "tags": []
   },
   "source": [
    "Сам временной ряд, который будем прогнозировать, кажется нестационарным, хоть и имеет тренд на повышение потребления, но также резкое падание в конце наблюдений. Это может оказать влияние на модель."
   ]
  },
  {
   "cell_type": "markdown",
   "id": "6ddf4661-36fc-45db-990d-5df866310da9",
   "metadata": {},
   "source": [
    "## Дополнительные фичи"
   ]
  },
  {
   "cell_type": "markdown",
   "id": "91a71bbe-d5af-49c5-98c2-aaaf5d39bdc9",
   "metadata": {},
   "source": [
    "Дополним датасет дополнительными данными, исходя из даты и времени, а сам тип datetime сделаем индексом датасета."
   ]
  },
  {
   "cell_type": "code",
   "execution_count": 41,
   "id": "bae15be7-6308-4346-b6be-b05092ea595d",
   "metadata": {
    "tags": []
   },
   "outputs": [],
   "source": [
    "def make_datetime_features(df: pd.DataFrame, lag: int, rolling_size: int) -> pd.DataFrame:\n",
    "    \"\"\"\n",
    "    Функция создает дополнительные признаки даты и времени,\n",
    "    а также добавляет лаги и скользящее среднее\n",
    "    \n",
    "    :param pd.DataFrame df: датафрейм, который нужно дополнить\n",
    "    :param int lag: число, на которое нужно сделать сдвиг по данным\n",
    "    :param int rolling_size: размер скользящего окна\n",
    "    \"\"\"\n",
    "    df['month'] = df['datetime'].dt.month\n",
    "    df['week'] = df['datetime'].dt.week\n",
    "    df['dayofweek'] = df['datetime'].dt.dayofweek\n",
    "    df['day'] = df['datetime'].dt.day\n",
    "    df['hour'] = df['datetime'].dt.hour\n",
    "    \n",
    "    for lag in range(1, lag + 1):\n",
    "        df['lag_{}'.format(lag)] = df['target'].shift(lag)\n",
    "    \n",
    "    df['rolling_mean'] = df['target'].shift().rolling(rolling_size).mean()\n",
    "    \n",
    "    return df"
   ]
  },
  {
   "cell_type": "code",
   "execution_count": 42,
   "id": "261412c5-9249-4b2a-9326-9a6d33538583",
   "metadata": {
    "tags": []
   },
   "outputs": [],
   "source": [
    "final_data = make_datetime_features(final_data, 5, 5)"
   ]
  },
  {
   "cell_type": "code",
   "execution_count": 43,
   "id": "f9b793fa-6539-4a36-b9d3-8d1b1b1fdd28",
   "metadata": {},
   "outputs": [],
   "source": [
    "# сделаем datetime индексом\n",
    "final_data = final_data.set_index('datetime')\n",
    "\n",
    "# удалим пропуски\n",
    "final_data = final_data.dropna()"
   ]
  },
  {
   "cell_type": "code",
   "execution_count": 44,
   "id": "319e13e8-681c-4c1c-ae17-b379ea9d05c6",
   "metadata": {
    "tags": []
   },
   "outputs": [
    {
     "data": {
      "text/html": [
       "<div>\n",
       "<style scoped>\n",
       "    .dataframe tbody tr th:only-of-type {\n",
       "        vertical-align: middle;\n",
       "    }\n",
       "\n",
       "    .dataframe tbody tr th {\n",
       "        vertical-align: top;\n",
       "    }\n",
       "\n",
       "    .dataframe thead th {\n",
       "        text-align: right;\n",
       "    }\n",
       "</style>\n",
       "<table border=\"1\" class=\"dataframe\">\n",
       "  <thead>\n",
       "    <tr style=\"text-align: right;\">\n",
       "      <th></th>\n",
       "      <th>county</th>\n",
       "      <th>is_business</th>\n",
       "      <th>product_type</th>\n",
       "      <th>target</th>\n",
       "      <th>is_consumption</th>\n",
       "      <th>lowest_price_per_mwh</th>\n",
       "      <th>highest_price_per_mwh</th>\n",
       "      <th>euros_per_mwh</th>\n",
       "      <th>month</th>\n",
       "      <th>week</th>\n",
       "      <th>dayofweek</th>\n",
       "      <th>day</th>\n",
       "      <th>hour</th>\n",
       "      <th>lag_1</th>\n",
       "      <th>lag_2</th>\n",
       "      <th>lag_3</th>\n",
       "      <th>lag_4</th>\n",
       "      <th>lag_5</th>\n",
       "      <th>rolling_mean</th>\n",
       "    </tr>\n",
       "    <tr>\n",
       "      <th>datetime</th>\n",
       "      <th></th>\n",
       "      <th></th>\n",
       "      <th></th>\n",
       "      <th></th>\n",
       "      <th></th>\n",
       "      <th></th>\n",
       "      <th></th>\n",
       "      <th></th>\n",
       "      <th></th>\n",
       "      <th></th>\n",
       "      <th></th>\n",
       "      <th></th>\n",
       "      <th></th>\n",
       "      <th></th>\n",
       "      <th></th>\n",
       "      <th></th>\n",
       "      <th></th>\n",
       "      <th></th>\n",
       "      <th></th>\n",
       "    </tr>\n",
       "  </thead>\n",
       "  <tbody>\n",
       "    <tr>\n",
       "      <th>2021-09-02</th>\n",
       "      <td>0</td>\n",
       "      <td>0</td>\n",
       "      <td>3</td>\n",
       "      <td>735.696</td>\n",
       "      <td>1</td>\n",
       "      <td>45.23</td>\n",
       "      <td>46.32</td>\n",
       "      <td>96.99</td>\n",
       "      <td>9</td>\n",
       "      <td>35</td>\n",
       "      <td>3</td>\n",
       "      <td>2</td>\n",
       "      <td>0</td>\n",
       "      <td>1.003</td>\n",
       "      <td>21.008</td>\n",
       "      <td>0.000</td>\n",
       "      <td>109.366</td>\n",
       "      <td>1.687</td>\n",
       "      <td>26.6128</td>\n",
       "    </tr>\n",
       "    <tr>\n",
       "      <th>2021-09-02</th>\n",
       "      <td>0</td>\n",
       "      <td>1</td>\n",
       "      <td>0</td>\n",
       "      <td>0.000</td>\n",
       "      <td>0</td>\n",
       "      <td>45.23</td>\n",
       "      <td>46.32</td>\n",
       "      <td>96.99</td>\n",
       "      <td>9</td>\n",
       "      <td>35</td>\n",
       "      <td>3</td>\n",
       "      <td>2</td>\n",
       "      <td>0</td>\n",
       "      <td>735.696</td>\n",
       "      <td>1.003</td>\n",
       "      <td>21.008</td>\n",
       "      <td>0.000</td>\n",
       "      <td>109.366</td>\n",
       "      <td>173.4146</td>\n",
       "    </tr>\n",
       "    <tr>\n",
       "      <th>2021-09-02</th>\n",
       "      <td>0</td>\n",
       "      <td>1</td>\n",
       "      <td>0</td>\n",
       "      <td>75.800</td>\n",
       "      <td>1</td>\n",
       "      <td>45.23</td>\n",
       "      <td>46.32</td>\n",
       "      <td>96.99</td>\n",
       "      <td>9</td>\n",
       "      <td>35</td>\n",
       "      <td>3</td>\n",
       "      <td>2</td>\n",
       "      <td>0</td>\n",
       "      <td>0.000</td>\n",
       "      <td>735.696</td>\n",
       "      <td>1.003</td>\n",
       "      <td>21.008</td>\n",
       "      <td>0.000</td>\n",
       "      <td>151.5414</td>\n",
       "    </tr>\n",
       "    <tr>\n",
       "      <th>2021-09-02</th>\n",
       "      <td>0</td>\n",
       "      <td>1</td>\n",
       "      <td>1</td>\n",
       "      <td>0.000</td>\n",
       "      <td>0</td>\n",
       "      <td>45.23</td>\n",
       "      <td>46.32</td>\n",
       "      <td>96.99</td>\n",
       "      <td>9</td>\n",
       "      <td>35</td>\n",
       "      <td>3</td>\n",
       "      <td>2</td>\n",
       "      <td>0</td>\n",
       "      <td>75.800</td>\n",
       "      <td>0.000</td>\n",
       "      <td>735.696</td>\n",
       "      <td>1.003</td>\n",
       "      <td>21.008</td>\n",
       "      <td>166.7014</td>\n",
       "    </tr>\n",
       "    <tr>\n",
       "      <th>2021-09-02</th>\n",
       "      <td>0</td>\n",
       "      <td>1</td>\n",
       "      <td>1</td>\n",
       "      <td>502.241</td>\n",
       "      <td>1</td>\n",
       "      <td>45.23</td>\n",
       "      <td>46.32</td>\n",
       "      <td>96.99</td>\n",
       "      <td>9</td>\n",
       "      <td>35</td>\n",
       "      <td>3</td>\n",
       "      <td>2</td>\n",
       "      <td>0</td>\n",
       "      <td>0.000</td>\n",
       "      <td>75.800</td>\n",
       "      <td>0.000</td>\n",
       "      <td>735.696</td>\n",
       "      <td>1.003</td>\n",
       "      <td>162.4998</td>\n",
       "    </tr>\n",
       "  </tbody>\n",
       "</table>\n",
       "</div>"
      ],
      "text/plain": [
       "            county  is_business  product_type   target  is_consumption  \\\n",
       "datetime                                                                 \n",
       "2021-09-02       0            0             3  735.696               1   \n",
       "2021-09-02       0            1             0    0.000               0   \n",
       "2021-09-02       0            1             0   75.800               1   \n",
       "2021-09-02       0            1             1    0.000               0   \n",
       "2021-09-02       0            1             1  502.241               1   \n",
       "\n",
       "            lowest_price_per_mwh  highest_price_per_mwh  euros_per_mwh  month  \\\n",
       "datetime                                                                        \n",
       "2021-09-02                 45.23                  46.32          96.99      9   \n",
       "2021-09-02                 45.23                  46.32          96.99      9   \n",
       "2021-09-02                 45.23                  46.32          96.99      9   \n",
       "2021-09-02                 45.23                  46.32          96.99      9   \n",
       "2021-09-02                 45.23                  46.32          96.99      9   \n",
       "\n",
       "            week  dayofweek  day  hour    lag_1    lag_2    lag_3    lag_4  \\\n",
       "datetime                                                                     \n",
       "2021-09-02    35          3    2     0    1.003   21.008    0.000  109.366   \n",
       "2021-09-02    35          3    2     0  735.696    1.003   21.008    0.000   \n",
       "2021-09-02    35          3    2     0    0.000  735.696    1.003   21.008   \n",
       "2021-09-02    35          3    2     0   75.800    0.000  735.696    1.003   \n",
       "2021-09-02    35          3    2     0    0.000   75.800    0.000  735.696   \n",
       "\n",
       "              lag_5  rolling_mean  \n",
       "datetime                           \n",
       "2021-09-02    1.687       26.6128  \n",
       "2021-09-02  109.366      173.4146  \n",
       "2021-09-02    0.000      151.5414  \n",
       "2021-09-02   21.008      166.7014  \n",
       "2021-09-02    1.003      162.4998  "
      ]
     },
     "execution_count": 44,
     "metadata": {},
     "output_type": "execute_result"
    }
   ],
   "source": [
    "final_data.head()"
   ]
  },
  {
   "cell_type": "markdown",
   "id": "cfef8441-29bb-4440-9dc7-a851b19dc1d4",
   "metadata": {},
   "source": [
    "## Создание выборок"
   ]
  },
  {
   "cell_type": "code",
   "execution_count": 45,
   "id": "370394f0-06d4-4b97-9602-5475f7432e9c",
   "metadata": {
    "tags": []
   },
   "outputs": [],
   "source": [
    "# обозначим единый рандом\n",
    "RANDOM_STATE = 999"
   ]
  },
  {
   "cell_type": "code",
   "execution_count": 48,
   "id": "7dabfc42-c6f9-40a3-81a1-54d31030d963",
   "metadata": {
    "tags": []
   },
   "outputs": [],
   "source": [
    "# признаки\n",
    "features = final_data.drop('target', axis=1)\n",
    "target = final_data['target']"
   ]
  },
  {
   "cell_type": "code",
   "execution_count": 49,
   "id": "c2aeaab8-797a-4d6d-8bd9-ead4ea96dcf6",
   "metadata": {
    "tags": []
   },
   "outputs": [
    {
     "data": {
      "text/plain": [
       "((1408053, 18), (603452, 18), (1408053,), (603452,))"
      ]
     },
     "execution_count": 49,
     "metadata": {},
     "output_type": "execute_result"
    }
   ],
   "source": [
    "# разделим на трейновую и тестовую выборки\n",
    "feature_train, feature_test, target_train, target_test = train_test_split(\n",
    "    features, target, shuffle=False, test_size=.3, random_state=RANDOM_STATE\n",
    ")\n",
    "\n",
    "(feature_train.shape, feature_test.shape, target_train.shape, target_test.shape)"
   ]
  },
  {
   "cell_type": "markdown",
   "id": "c72a3f56-77be-417d-adf2-750b47f2a827",
   "metadata": {},
   "source": [
    "### to do\n",
    "Дополнить eda исследованием таргета"
   ]
  },
  {
   "cell_type": "code",
   "execution_count": null,
   "id": "babb6209-16e9-4225-a624-b16fa6ad68ee",
   "metadata": {},
   "outputs": [],
   "source": []
  }
 ],
 "metadata": {
  "kernelspec": {
   "display_name": "Python 3 (ipykernel)",
   "language": "python",
   "name": "python3"
  },
  "language_info": {
   "codemirror_mode": {
    "name": "ipython",
    "version": 3
   },
   "file_extension": ".py",
   "mimetype": "text/x-python",
   "name": "python",
   "nbconvert_exporter": "python",
   "pygments_lexer": "ipython3",
   "version": "3.11.5"
  }
 },
 "nbformat": 4,
 "nbformat_minor": 5
}
