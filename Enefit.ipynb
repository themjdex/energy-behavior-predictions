{
 "cells": [
  {
   "cell_type": "markdown",
   "id": "a4942d80",
   "metadata": {},
   "source": [
    "Целью является создание модели прогнозирования энергопотребления просьюмеров для снижения затрат на небаланс энергии.\n",
    "\n",
    "Проект направлен на решение проблемы энергетического дисбаланса - ситуации, когда ожидаемое потребление энергии не совпадает с ее фактическим использованием или производством. Значительная часть энергетического дисбаланса приходится на потребителей, которые как потребляют, так и производят энергию. Несмотря на то, что они составляют лишь небольшую часть всех потребителей, их непредсказуемое потребление энергии создает логистические и финансовые проблемы для энергетических компаний.\n",
    "\n",
    "a person who buys electronic goods that are of a standard between those aimed at consumers and professionals.\n",
    "\"the magazine is aimed at the prosumer who uses a £5,000 camera to make home movies of his dog\"\n",
    "2.\n",
    "a consumer who becomes involved with designing or customizing products for their own needs."
   ]
  },
  {
   "cell_type": "code",
   "execution_count": 3,
   "id": "fbf692ed",
   "metadata": {},
   "outputs": [
    {
     "data": {
      "text/plain": [
       "'C:\\\\Users\\\\Марат Жанпейсов\\\\Downloads\\\\Projects\\\\enefit'"
      ]
     },
     "execution_count": 3,
     "metadata": {},
     "output_type": "execute_result"
    }
   ],
   "source": [
    "import pandas as pd\n",
    "import numpy as np\n",
    "import seaborn as sns\n",
    "import os\n",
    "\n",
    "# запишем путь директории\n",
    "basedir = os.path.abspath(os.getcwd())"
   ]
  },
  {
   "cell_type": "code",
   "execution_count": 8,
   "id": "cacba648",
   "metadata": {},
   "outputs": [],
   "source": [
    "# загрузим данные\n",
    "try:\n",
    "    clients = pd.read_csv(os.path.join(basedir, 'data/client.csv'))\n",
    "    train = pd.read_csv(os.path.join(basedir, 'data/train.csv'))\n",
    "    gas_prices = pd.read_csv(os.path.join(basedir, 'data/gas_prices.csv'))\n",
    "    electricity_prices = pd.read_csv(os.path.join(basedir, 'data/electricity_prices.csv'))\n",
    "    forecast_weather = pd.read_csv(os.path.join(basedir, 'data/forecast_weather.csv'))\n",
    "except:\n",
    "    raise Exception('Check the files')"
   ]
  },
  {
   "cell_type": "code",
   "execution_count": null,
   "id": "271c94cb",
   "metadata": {},
   "outputs": [],
   "source": []
  },
  {
   "cell_type": "code",
   "execution_count": null,
   "id": "0cfeb68b",
   "metadata": {},
   "outputs": [],
   "source": []
  },
  {
   "cell_type": "code",
   "execution_count": null,
   "id": "0fbdf5e6",
   "metadata": {},
   "outputs": [],
   "source": []
  },
  {
   "cell_type": "code",
   "execution_count": null,
   "id": "ce48ab22",
   "metadata": {},
   "outputs": [],
   "source": []
  },
  {
   "cell_type": "code",
   "execution_count": null,
   "id": "7caaac63",
   "metadata": {},
   "outputs": [],
   "source": []
  },
  {
   "cell_type": "code",
   "execution_count": null,
   "id": "cac0437c",
   "metadata": {},
   "outputs": [],
   "source": []
  },
  {
   "cell_type": "code",
   "execution_count": null,
   "id": "ff036637",
   "metadata": {},
   "outputs": [],
   "source": []
  },
  {
   "cell_type": "code",
   "execution_count": null,
   "id": "2a1802e1",
   "metadata": {},
   "outputs": [],
   "source": []
  },
  {
   "cell_type": "code",
   "execution_count": null,
   "id": "93c80c62",
   "metadata": {},
   "outputs": [],
   "source": []
  },
  {
   "cell_type": "code",
   "execution_count": null,
   "id": "edf11fb3",
   "metadata": {},
   "outputs": [],
   "source": []
  },
  {
   "cell_type": "code",
   "execution_count": null,
   "id": "0ac1582b",
   "metadata": {},
   "outputs": [],
   "source": []
  },
  {
   "cell_type": "code",
   "execution_count": null,
   "id": "be31e661",
   "metadata": {},
   "outputs": [],
   "source": []
  },
  {
   "cell_type": "code",
   "execution_count": null,
   "id": "2636941a",
   "metadata": {},
   "outputs": [],
   "source": []
  }
 ],
 "metadata": {
  "kernelspec": {
   "display_name": "Python 3 (ipykernel)",
   "language": "python",
   "name": "python3"
  },
  "language_info": {
   "codemirror_mode": {
    "name": "ipython",
    "version": 3
   },
   "file_extension": ".py",
   "mimetype": "text/x-python",
   "name": "python",
   "nbconvert_exporter": "python",
   "pygments_lexer": "ipython3",
   "version": "3.11.5"
  }
 },
 "nbformat": 4,
 "nbformat_minor": 5
}
